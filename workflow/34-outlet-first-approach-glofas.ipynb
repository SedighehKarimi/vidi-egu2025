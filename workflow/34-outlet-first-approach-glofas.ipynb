{
 "cells": [
  {
   "cell_type": "markdown",
   "id": "080f31f3-d6dd-4fe3-884b-54d2f28fc4c2",
   "metadata": {},
   "source": [
    "![Vidi_Waterflux_Banner](https://raw.githubusercontent.com/ITC-Water-Resources/Vidi-waterflux-merch/refs/heads/main/jupyter/Vidi_Waterflux_Banner.png)\n",
    "*Roelof Rietbroek, Sedigheh Karimi, Amin Shakya EGU 2025*"
   ]
  },
  {
   "cell_type": "code",
   "execution_count": null,
   "id": "c9033361-aa15-4104-891d-11533222131c",
   "metadata": {},
   "outputs": [],
   "source": []
  },
  {
   "cell_type": "code",
   "execution_count": 7,
   "id": "6678eb49-defd-49d7-a76d-9bf1e7b1ef4b",
   "metadata": {},
   "outputs": [],
   "source": [
    "import xarray as xr\n",
    "import geopandas as gpd\n",
    "import pandas as pd\n",
    "import matplotlib.pyplot as plt\n",
    "import numpy as np"
   ]
  },
  {
   "cell_type": "code",
   "execution_count": 8,
   "id": "522df06a-d5bb-4e2d-a9e6-c27142686175",
   "metadata": {},
   "outputs": [],
   "source": [
    "def get_glofas_for_point(roi, output_path):\n",
    "    import cdsapi\n",
    "\n",
    "    c = cdsapi.Client()\n",
    "    # north_sea_region = [-5.0, 45.5, 15.5, 63.5,]\n",
    "    # hoa = [7.0, -20.5, 60.5, 31.5,]\n",
    "    start_year = 2000 #1990\n",
    "    end_year = 2025 + 1 #2023\n",
    "    for i in range(start_year, end_year): \n",
    "        download_name = output_path + str(i) + '.grib2' #'./glofas4_data_hoa/glofas4_hoa_' + str(i) + '.grib2'\n",
    "        c.retrieve(\n",
    "            'cems-glofas-historical',\n",
    "            {\n",
    "                'system_version': 'version_4_0',\n",
    "                'hydrological_model': 'lisflood',\n",
    "                'product_type': 'consolidated',\n",
    "                'variable': 'river_discharge_in_the_last_24_hours',\n",
    "                \"hyear\": str(i),\n",
    "                \"hmonth\": [\n",
    "                            \"01\",\n",
    "                            \"02\",\n",
    "                            \"03\",\n",
    "                            \"04\",\n",
    "                            \"05\",\n",
    "                            \"06\",\n",
    "                            \"07\",\n",
    "                            \"08\",\n",
    "                            \"09\",\n",
    "                            \"10\",\n",
    "                            \"11\",\n",
    "                            \"12\"\n",
    "                        ],\n",
    "                'hday': [\n",
    "                '01', '02', '03',\n",
    "                '04', '05', '06',\n",
    "                '07', '08', '09',\n",
    "                '10', '11', '12',\n",
    "                '13', '14', '15',\n",
    "                '16', '17', '18',\n",
    "                '19', '20', '21',\n",
    "                '22', '23', '24',\n",
    "                '25', '26', '27',\n",
    "                '28', '29', '30',\n",
    "                '31',\n",
    "                ],\n",
    "                'format': 'grib2', \n",
    "                'area': roi, \n",
    "            },\n",
    "            download_name) #Rename appropriately"
   ]
  },
  {
   "cell_type": "code",
   "execution_count": 9,
   "id": "1ec6ec87-9bb6-4b9e-99b6-c63bd3f3f658",
   "metadata": {},
   "outputs": [],
   "source": [
    "points_fn = '../data/glofasv4_discharge_locations.gpkg'"
   ]
  },
  {
   "cell_type": "code",
   "execution_count": 10,
   "id": "f7730eae-d506-4b1a-9240-1f97f79f47a0",
   "metadata": {},
   "outputs": [
    {
     "data": {
      "text/html": [
       "<div>\n",
       "<style scoped>\n",
       "    .dataframe tbody tr th:only-of-type {\n",
       "        vertical-align: middle;\n",
       "    }\n",
       "\n",
       "    .dataframe tbody tr th {\n",
       "        vertical-align: top;\n",
       "    }\n",
       "\n",
       "    .dataframe thead th {\n",
       "        text-align: right;\n",
       "    }\n",
       "</style>\n",
       "<table border=\"1\" class=\"dataframe\">\n",
       "  <thead>\n",
       "    <tr style=\"text-align: right;\">\n",
       "      <th></th>\n",
       "      <th>name</th>\n",
       "      <th>endo</th>\n",
       "      <th>x</th>\n",
       "      <th>y</th>\n",
       "      <th>upstream_area</th>\n",
       "      <th>geometry</th>\n",
       "    </tr>\n",
       "  </thead>\n",
       "  <tbody>\n",
       "    <tr>\n",
       "      <th>0</th>\n",
       "      <td>SETIT</td>\n",
       "      <td>0</td>\n",
       "      <td>4358</td>\n",
       "      <td>1429</td>\n",
       "      <td>6.373512e+10</td>\n",
       "      <td>POINT (37.87500 18.57500)</td>\n",
       "    </tr>\n",
       "    <tr>\n",
       "      <th>1</th>\n",
       "      <td>SETIT</td>\n",
       "      <td>0</td>\n",
       "      <td>4357</td>\n",
       "      <td>1429</td>\n",
       "      <td>6.367669e+10</td>\n",
       "      <td>POINT (37.82500 18.57500)</td>\n",
       "    </tr>\n",
       "    <tr>\n",
       "      <th>2</th>\n",
       "      <td>SETIT</td>\n",
       "      <td>0</td>\n",
       "      <td>4356</td>\n",
       "      <td>1429</td>\n",
       "      <td>6.364749e+10</td>\n",
       "      <td>POINT (37.77500 18.57500)</td>\n",
       "    </tr>\n",
       "    <tr>\n",
       "      <th>3</th>\n",
       "      <td>SETIT</td>\n",
       "      <td>0</td>\n",
       "      <td>4356</td>\n",
       "      <td>1430</td>\n",
       "      <td>6.347212e+10</td>\n",
       "      <td>POINT (37.77500 18.52500)</td>\n",
       "    </tr>\n",
       "    <tr>\n",
       "      <th>4</th>\n",
       "      <td>GULF OF ADEN/SOMALIA</td>\n",
       "      <td>0</td>\n",
       "      <td>4573</td>\n",
       "      <td>1672</td>\n",
       "      <td>1.184632e+11</td>\n",
       "      <td>POINT (48.62500 6.42500)</td>\n",
       "    </tr>\n",
       "    <tr>\n",
       "      <th>...</th>\n",
       "      <td>...</td>\n",
       "      <td>...</td>\n",
       "      <td>...</td>\n",
       "      <td>...</td>\n",
       "      <td>...</td>\n",
       "      <td>...</td>\n",
       "    </tr>\n",
       "    <tr>\n",
       "      <th>479</th>\n",
       "      <td>GOBI DESERT</td>\n",
       "      <td>2</td>\n",
       "      <td>5612</td>\n",
       "      <td>953</td>\n",
       "      <td>7.298325e+10</td>\n",
       "      <td>POINT (100.57500 42.37500)</td>\n",
       "    </tr>\n",
       "    <tr>\n",
       "      <th>480</th>\n",
       "      <td>TIBETAN PLATEAU</td>\n",
       "      <td>2</td>\n",
       "      <td>5382</td>\n",
       "      <td>1169</td>\n",
       "      <td>4.499326e+10</td>\n",
       "      <td>POINT (89.07500 31.57500)</td>\n",
       "    </tr>\n",
       "    <tr>\n",
       "      <th>481</th>\n",
       "      <td>TIBETAN PLATEAU</td>\n",
       "      <td>2</td>\n",
       "      <td>5383</td>\n",
       "      <td>1168</td>\n",
       "      <td>4.351758e+10</td>\n",
       "      <td>POINT (89.12500 31.62500)</td>\n",
       "    </tr>\n",
       "    <tr>\n",
       "      <th>482</th>\n",
       "      <td>TIBETAN PLATEAU</td>\n",
       "      <td>2</td>\n",
       "      <td>5383</td>\n",
       "      <td>1167</td>\n",
       "      <td>4.349128e+10</td>\n",
       "      <td>POINT (89.12500 31.67500)</td>\n",
       "    </tr>\n",
       "    <tr>\n",
       "      <th>483</th>\n",
       "      <td>TIBETAN PLATEAU</td>\n",
       "      <td>2</td>\n",
       "      <td>5383</td>\n",
       "      <td>1166</td>\n",
       "      <td>4.320208e+10</td>\n",
       "      <td>POINT (89.12500 31.72500)</td>\n",
       "    </tr>\n",
       "  </tbody>\n",
       "</table>\n",
       "<p>484 rows × 6 columns</p>\n",
       "</div>"
      ],
      "text/plain": [
       "                     name  endo     x     y  upstream_area  \\\n",
       "0                   SETIT     0  4358  1429   6.373512e+10   \n",
       "1                   SETIT     0  4357  1429   6.367669e+10   \n",
       "2                   SETIT     0  4356  1429   6.364749e+10   \n",
       "3                   SETIT     0  4356  1430   6.347212e+10   \n",
       "4    GULF OF ADEN/SOMALIA     0  4573  1672   1.184632e+11   \n",
       "..                    ...   ...   ...   ...            ...   \n",
       "479           GOBI DESERT     2  5612   953   7.298325e+10   \n",
       "480       TIBETAN PLATEAU     2  5382  1169   4.499326e+10   \n",
       "481       TIBETAN PLATEAU     2  5383  1168   4.351758e+10   \n",
       "482       TIBETAN PLATEAU     2  5383  1167   4.349128e+10   \n",
       "483       TIBETAN PLATEAU     2  5383  1166   4.320208e+10   \n",
       "\n",
       "                       geometry  \n",
       "0     POINT (37.87500 18.57500)  \n",
       "1     POINT (37.82500 18.57500)  \n",
       "2     POINT (37.77500 18.57500)  \n",
       "3     POINT (37.77500 18.52500)  \n",
       "4      POINT (48.62500 6.42500)  \n",
       "..                          ...  \n",
       "479  POINT (100.57500 42.37500)  \n",
       "480   POINT (89.07500 31.57500)  \n",
       "481   POINT (89.12500 31.62500)  \n",
       "482   POINT (89.12500 31.67500)  \n",
       "483   POINT (89.12500 31.72500)  \n",
       "\n",
       "[484 rows x 6 columns]"
      ]
     },
     "execution_count": 10,
     "metadata": {},
     "output_type": "execute_result"
    }
   ],
   "source": [
    "points_gdf = gpd.read_file(points_fn)\n",
    "points_gdf"
   ]
  },
  {
   "cell_type": "code",
   "execution_count": 11,
   "id": "d4596fd8-62b3-4302-9d81-f53251e6ebd0",
   "metadata": {},
   "outputs": [
    {
     "data": {
      "text/html": [
       "<div>\n",
       "<style scoped>\n",
       "    .dataframe tbody tr th:only-of-type {\n",
       "        vertical-align: middle;\n",
       "    }\n",
       "\n",
       "    .dataframe tbody tr th {\n",
       "        vertical-align: top;\n",
       "    }\n",
       "\n",
       "    .dataframe thead th {\n",
       "        text-align: right;\n",
       "    }\n",
       "</style>\n",
       "<table border=\"1\" class=\"dataframe\">\n",
       "  <thead>\n",
       "    <tr style=\"text-align: right;\">\n",
       "      <th></th>\n",
       "      <th>name</th>\n",
       "      <th>endo</th>\n",
       "      <th>x</th>\n",
       "      <th>y</th>\n",
       "      <th>upstream_area</th>\n",
       "      <th>geometry</th>\n",
       "    </tr>\n",
       "  </thead>\n",
       "  <tbody>\n",
       "    <tr>\n",
       "      <th>0</th>\n",
       "      <td>SETIT</td>\n",
       "      <td>0</td>\n",
       "      <td>4358</td>\n",
       "      <td>1429</td>\n",
       "      <td>6.373512e+10</td>\n",
       "      <td>POINT (37.87500 18.57500)</td>\n",
       "    </tr>\n",
       "    <tr>\n",
       "      <th>1</th>\n",
       "      <td>SETIT</td>\n",
       "      <td>0</td>\n",
       "      <td>4357</td>\n",
       "      <td>1429</td>\n",
       "      <td>6.367669e+10</td>\n",
       "      <td>POINT (37.82500 18.57500)</td>\n",
       "    </tr>\n",
       "    <tr>\n",
       "      <th>2</th>\n",
       "      <td>SETIT</td>\n",
       "      <td>0</td>\n",
       "      <td>4356</td>\n",
       "      <td>1429</td>\n",
       "      <td>6.364749e+10</td>\n",
       "      <td>POINT (37.77500 18.57500)</td>\n",
       "    </tr>\n",
       "    <tr>\n",
       "      <th>3</th>\n",
       "      <td>SETIT</td>\n",
       "      <td>0</td>\n",
       "      <td>4356</td>\n",
       "      <td>1430</td>\n",
       "      <td>6.347212e+10</td>\n",
       "      <td>POINT (37.77500 18.52500)</td>\n",
       "    </tr>\n",
       "    <tr>\n",
       "      <th>4</th>\n",
       "      <td>GULF OF ADEN/SOMALIA</td>\n",
       "      <td>0</td>\n",
       "      <td>4573</td>\n",
       "      <td>1672</td>\n",
       "      <td>1.184632e+11</td>\n",
       "      <td>POINT (48.62500 6.42500)</td>\n",
       "    </tr>\n",
       "  </tbody>\n",
       "</table>\n",
       "</div>"
      ],
      "text/plain": [
       "                   name  endo     x     y  upstream_area  \\\n",
       "0                 SETIT     0  4358  1429   6.373512e+10   \n",
       "1                 SETIT     0  4357  1429   6.367669e+10   \n",
       "2                 SETIT     0  4356  1429   6.364749e+10   \n",
       "3                 SETIT     0  4356  1430   6.347212e+10   \n",
       "4  GULF OF ADEN/SOMALIA     0  4573  1672   1.184632e+11   \n",
       "\n",
       "                    geometry  \n",
       "0  POINT (37.87500 18.57500)  \n",
       "1  POINT (37.82500 18.57500)  \n",
       "2  POINT (37.77500 18.57500)  \n",
       "3  POINT (37.77500 18.52500)  \n",
       "4   POINT (48.62500 6.42500)  "
      ]
     },
     "execution_count": 11,
     "metadata": {},
     "output_type": "execute_result"
    }
   ],
   "source": [
    "points_gdf.head()"
   ]
  },
  {
   "cell_type": "code",
   "execution_count": 12,
   "id": "6aacf1da-280f-46da-b248-037d53be2a88",
   "metadata": {},
   "outputs": [
    {
     "name": "stderr",
     "output_type": "stream",
     "text": [
      "2025-04-17 11:49:39,562 INFO [2024-09-26T00:00:00] Watch our [Forum]( https://forum.ecmwf.int/) for Announcements, news and other discussed topics.\n",
      "2025-04-17 11:49:39,808 INFO [2024-02-01T00:00:00] Please note that accessing this dataset via CDS for time-critical operation is not advised or supported\n",
      "2025-04-17 11:49:39,811 INFO [2024-02-01T00:00:00] Please note we suggest checking the list of known issues on the GloFAS wiki\n",
      "[here](https://confluence.ecmwf.int/display/CEMS/GloFAS+-+Known+Issues)\n",
      "before downloading the dataset.\n",
      "2025-04-17 11:49:39,814 INFO Request ID is c8541214-6bef-45f9-a25d-ee00d522a612\n",
      "2025-04-17 11:49:40,066 INFO status has been updated to accepted\n",
      "2025-04-17 11:50:01,386 INFO status has been updated to successful\n"
     ]
    },
    {
     "data": {
      "application/vnd.jupyter.widget-view+json": {
       "model_id": "",
       "version_major": 2,
       "version_minor": 0
      },
      "text/plain": [
       "74f9822dd057e9067f51cd1e10189977.grib:   0%|          | 0.00/465k [00:00<?, ?B/s]"
      ]
     },
     "metadata": {},
     "output_type": "display_data"
    },
    {
     "name": "stderr",
     "output_type": "stream",
     "text": [
      "2025-04-17 11:50:02,464 INFO [2024-02-01T00:00:00] Please note that accessing this dataset via CDS for time-critical operation is not advised or supported\n",
      "2025-04-17 11:50:02,466 INFO [2024-02-01T00:00:00] Please note we suggest checking the list of known issues on the GloFAS wiki\n",
      "[here](https://confluence.ecmwf.int/display/CEMS/GloFAS+-+Known+Issues)\n",
      "before downloading the dataset.\n",
      "2025-04-17 11:50:02,468 INFO Request ID is a526ee5b-65ad-44a0-b86a-69144154c80c\n",
      "2025-04-17 11:50:02,529 INFO status has been updated to accepted\n",
      "2025-04-17 11:50:35,489 INFO status has been updated to running\n",
      "2025-04-17 11:54:21,829 INFO status has been updated to successful\n"
     ]
    },
    {
     "data": {
      "application/vnd.jupyter.widget-view+json": {
       "model_id": "",
       "version_major": 2,
       "version_minor": 0
      },
      "text/plain": [
       "eaca1fd6e7b715c87c73e0eead15f04e.grib:   0%|          | 0.00/464k [00:00<?, ?B/s]"
      ]
     },
     "metadata": {},
     "output_type": "display_data"
    },
    {
     "name": "stderr",
     "output_type": "stream",
     "text": [
      "2025-04-17 11:54:23,046 INFO [2024-02-01T00:00:00] Please note that accessing this dataset via CDS for time-critical operation is not advised or supported\n",
      "2025-04-17 11:54:23,049 INFO [2024-02-01T00:00:00] Please note we suggest checking the list of known issues on the GloFAS wiki\n",
      "[here](https://confluence.ecmwf.int/display/CEMS/GloFAS+-+Known+Issues)\n",
      "before downloading the dataset.\n",
      "2025-04-17 11:54:23,051 INFO Request ID is dd15a694-c6ad-4e56-b5e7-973755ac1110\n",
      "2025-04-17 11:54:23,490 INFO status has been updated to accepted\n",
      "2025-04-17 11:54:45,020 INFO status has been updated to running\n",
      "2025-04-17 11:58:42,946 INFO status has been updated to successful\n"
     ]
    },
    {
     "data": {
      "application/vnd.jupyter.widget-view+json": {
       "model_id": "",
       "version_major": 2,
       "version_minor": 0
      },
      "text/plain": [
       "a80960c0398cf1007f5c28054ad46b0e.grib:   0%|          | 0.00/464k [00:00<?, ?B/s]"
      ]
     },
     "metadata": {},
     "output_type": "display_data"
    },
    {
     "name": "stderr",
     "output_type": "stream",
     "text": [
      "2025-04-17 11:58:43,994 INFO [2024-02-01T00:00:00] Please note that accessing this dataset via CDS for time-critical operation is not advised or supported\n",
      "2025-04-17 11:58:43,997 INFO [2024-02-01T00:00:00] Please note we suggest checking the list of known issues on the GloFAS wiki\n",
      "[here](https://confluence.ecmwf.int/display/CEMS/GloFAS+-+Known+Issues)\n",
      "before downloading the dataset.\n",
      "2025-04-17 11:58:43,999 INFO Request ID is 2670e9c0-d187-4f29-9830-423980179e25\n",
      "2025-04-17 11:58:44,094 INFO status has been updated to accepted\n",
      "2025-04-17 11:58:52,719 INFO status has been updated to running\n",
      "2025-04-17 12:03:03,118 INFO status has been updated to successful\n"
     ]
    },
    {
     "data": {
      "application/vnd.jupyter.widget-view+json": {
       "model_id": "",
       "version_major": 2,
       "version_minor": 0
      },
      "text/plain": [
       "2cf99d4fbffeffdb76b8a390474f6230.grib:   0%|          | 0.00/464k [00:00<?, ?B/s]"
      ]
     },
     "metadata": {},
     "output_type": "display_data"
    },
    {
     "name": "stderr",
     "output_type": "stream",
     "text": [
      "2025-04-17 12:03:04,451 INFO [2024-02-01T00:00:00] Please note that accessing this dataset via CDS for time-critical operation is not advised or supported\n",
      "2025-04-17 12:03:04,454 INFO [2024-02-01T00:00:00] Please note we suggest checking the list of known issues on the GloFAS wiki\n",
      "[here](https://confluence.ecmwf.int/display/CEMS/GloFAS+-+Known+Issues)\n",
      "before downloading the dataset.\n",
      "2025-04-17 12:03:04,456 INFO Request ID is 4a265286-d090-48bd-a97d-88307b83ed15\n",
      "2025-04-17 12:03:04,925 INFO status has been updated to accepted\n",
      "2025-04-17 12:03:14,177 INFO status has been updated to running\n",
      "Recovering from connection error [('Connection aborted.', ConnectionResetError(104, 'Connection reset by peer'))], attempt 1 of 500\n",
      "Retrying in 120 seconds\n",
      "2025-04-17 12:07:00,921 INFO status has been updated to successful\n"
     ]
    },
    {
     "data": {
      "application/vnd.jupyter.widget-view+json": {
       "model_id": "",
       "version_major": 2,
       "version_minor": 0
      },
      "text/plain": [
       "15e3efe1c0ad87e8505b6c96421d05ca.grib:   0%|          | 0.00/465k [00:00<?, ?B/s]"
      ]
     },
     "metadata": {},
     "output_type": "display_data"
    },
    {
     "name": "stderr",
     "output_type": "stream",
     "text": [
      "2025-04-17 12:07:02,664 INFO [2024-02-01T00:00:00] Please note that accessing this dataset via CDS for time-critical operation is not advised or supported\n",
      "2025-04-17 12:07:02,668 INFO [2024-02-01T00:00:00] Please note we suggest checking the list of known issues on the GloFAS wiki\n",
      "[here](https://confluence.ecmwf.int/display/CEMS/GloFAS+-+Known+Issues)\n",
      "before downloading the dataset.\n",
      "2025-04-17 12:07:02,670 INFO Request ID is 9d67cdf3-58ac-4c2b-ba96-ceb47eb9b87d\n",
      "2025-04-17 12:07:02,807 INFO status has been updated to accepted\n",
      "2025-04-17 12:07:12,094 INFO status has been updated to running\n",
      "2025-04-17 12:11:22,799 INFO status has been updated to successful\n"
     ]
    },
    {
     "data": {
      "application/vnd.jupyter.widget-view+json": {
       "model_id": "",
       "version_major": 2,
       "version_minor": 0
      },
      "text/plain": [
       "7446b15aef18851d3f23d221aebd4740.grib:   0%|          | 0.00/464k [00:00<?, ?B/s]"
      ]
     },
     "metadata": {},
     "output_type": "display_data"
    },
    {
     "name": "stderr",
     "output_type": "stream",
     "text": [
      "2025-04-17 12:11:23,697 INFO [2024-02-01T00:00:00] Please note that accessing this dataset via CDS for time-critical operation is not advised or supported\n",
      "2025-04-17 12:11:23,700 INFO [2024-02-01T00:00:00] Please note we suggest checking the list of known issues on the GloFAS wiki\n",
      "[here](https://confluence.ecmwf.int/display/CEMS/GloFAS+-+Known+Issues)\n",
      "before downloading the dataset.\n",
      "2025-04-17 12:11:23,702 INFO Request ID is 634d9448-2f86-4ee7-aa16-90b009dbdd56\n",
      "2025-04-17 12:11:23,951 INFO status has been updated to accepted\n",
      "2025-04-17 12:11:38,052 INFO status has been updated to running\n",
      "2025-04-17 12:11:45,745 INFO status has been updated to accepted\n",
      "2025-04-17 12:11:57,219 INFO status has been updated to running\n",
      "2025-04-17 12:15:43,696 INFO status has been updated to successful\n"
     ]
    },
    {
     "data": {
      "application/vnd.jupyter.widget-view+json": {
       "model_id": "",
       "version_major": 2,
       "version_minor": 0
      },
      "text/plain": [
       "3671e71f06e4e2d70f8ba4d1b21168db.grib:   0%|          | 0.00/464k [00:00<?, ?B/s]"
      ]
     },
     "metadata": {},
     "output_type": "display_data"
    },
    {
     "name": "stderr",
     "output_type": "stream",
     "text": [
      "2025-04-17 12:15:45,775 INFO [2024-02-01T00:00:00] Please note that accessing this dataset via CDS for time-critical operation is not advised or supported\n",
      "2025-04-17 12:15:45,778 INFO [2024-02-01T00:00:00] Please note we suggest checking the list of known issues on the GloFAS wiki\n",
      "[here](https://confluence.ecmwf.int/display/CEMS/GloFAS+-+Known+Issues)\n",
      "before downloading the dataset.\n",
      "2025-04-17 12:15:45,779 INFO Request ID is 0099fbd1-da31-4d9d-8bf0-8879a1609d6e\n",
      "2025-04-17 12:15:46,562 INFO status has been updated to accepted\n",
      "2025-04-17 12:16:00,775 INFO status has been updated to running\n",
      "2025-04-17 12:20:06,281 INFO status has been updated to successful\n"
     ]
    },
    {
     "data": {
      "application/vnd.jupyter.widget-view+json": {
       "model_id": "",
       "version_major": 2,
       "version_minor": 0
      },
      "text/plain": [
       "f3aba5f2bdabacb30ee72f534401c920.grib:   0%|          | 0.00/464k [00:00<?, ?B/s]"
      ]
     },
     "metadata": {},
     "output_type": "display_data"
    },
    {
     "name": "stderr",
     "output_type": "stream",
     "text": [
      "2025-04-17 12:20:07,371 INFO [2024-02-01T00:00:00] Please note that accessing this dataset via CDS for time-critical operation is not advised or supported\n",
      "2025-04-17 12:20:07,374 INFO [2024-02-01T00:00:00] Please note we suggest checking the list of known issues on the GloFAS wiki\n",
      "[here](https://confluence.ecmwf.int/display/CEMS/GloFAS+-+Known+Issues)\n",
      "before downloading the dataset.\n",
      "2025-04-17 12:20:07,376 INFO Request ID is 143c8dac-8b8e-4573-a855-4d8f442cb4df\n",
      "2025-04-17 12:20:07,449 INFO status has been updated to accepted\n",
      "2025-04-17 12:20:28,684 INFO status has been updated to running\n",
      "2025-04-17 12:24:26,607 INFO status has been updated to successful\n"
     ]
    },
    {
     "data": {
      "application/vnd.jupyter.widget-view+json": {
       "model_id": "",
       "version_major": 2,
       "version_minor": 0
      },
      "text/plain": [
       "c6c8f4eb98feef8b230013d88a4a2676.grib:   0%|          | 0.00/465k [00:00<?, ?B/s]"
      ]
     },
     "metadata": {},
     "output_type": "display_data"
    },
    {
     "name": "stderr",
     "output_type": "stream",
     "text": [
      "2025-04-17 12:24:27,646 INFO [2024-02-01T00:00:00] Please note that accessing this dataset via CDS for time-critical operation is not advised or supported\n",
      "2025-04-17 12:24:27,648 INFO [2024-02-01T00:00:00] Please note we suggest checking the list of known issues on the GloFAS wiki\n",
      "[here](https://confluence.ecmwf.int/display/CEMS/GloFAS+-+Known+Issues)\n",
      "before downloading the dataset.\n",
      "2025-04-17 12:24:27,650 INFO Request ID is 168a20ef-f60d-4dba-afdd-e7ffeded9e59\n",
      "2025-04-17 12:24:28,042 INFO status has been updated to accepted\n",
      "2025-04-17 12:24:41,903 INFO status has been updated to running\n",
      "Recovering from connection error [('Connection aborted.', ConnectionResetError(104, 'Connection reset by peer'))], attempt 1 of 500\n",
      "Retrying in 120 seconds\n",
      "2025-04-17 12:30:47,859 INFO status has been updated to successful\n"
     ]
    },
    {
     "data": {
      "application/vnd.jupyter.widget-view+json": {
       "model_id": "",
       "version_major": 2,
       "version_minor": 0
      },
      "text/plain": [
       "a83d6bddc8c71dddf2c961def1ff1bc0.grib:   0%|          | 0.00/464k [00:00<?, ?B/s]"
      ]
     },
     "metadata": {},
     "output_type": "display_data"
    },
    {
     "name": "stderr",
     "output_type": "stream",
     "text": [
      "2025-04-17 12:30:48,989 INFO [2024-02-01T00:00:00] Please note that accessing this dataset via CDS for time-critical operation is not advised or supported\n",
      "2025-04-17 12:30:48,991 INFO [2024-02-01T00:00:00] Please note we suggest checking the list of known issues on the GloFAS wiki\n",
      "[here](https://confluence.ecmwf.int/display/CEMS/GloFAS+-+Known+Issues)\n",
      "before downloading the dataset.\n",
      "2025-04-17 12:30:48,994 INFO Request ID is 9a8e6cbd-28d9-4df7-84cb-71e0e77ad25f\n",
      "2025-04-17 12:30:49,240 INFO status has been updated to accepted\n",
      "2025-04-17 12:31:03,199 INFO status has been updated to running\n",
      "2025-04-17 12:35:08,813 INFO status has been updated to successful\n"
     ]
    },
    {
     "data": {
      "application/vnd.jupyter.widget-view+json": {
       "model_id": "",
       "version_major": 2,
       "version_minor": 0
      },
      "text/plain": [
       "c412d1e81051f7d8eb19ab5e01d84769.grib:   0%|          | 0.00/464k [00:00<?, ?B/s]"
      ]
     },
     "metadata": {},
     "output_type": "display_data"
    },
    {
     "name": "stderr",
     "output_type": "stream",
     "text": [
      "2025-04-17 12:35:09,868 INFO [2024-02-01T00:00:00] Please note that accessing this dataset via CDS for time-critical operation is not advised or supported\n",
      "2025-04-17 12:35:09,871 INFO [2024-02-01T00:00:00] Please note we suggest checking the list of known issues on the GloFAS wiki\n",
      "[here](https://confluence.ecmwf.int/display/CEMS/GloFAS+-+Known+Issues)\n",
      "before downloading the dataset.\n",
      "2025-04-17 12:35:09,873 INFO Request ID is c308c0f9-522b-4c56-9e37-6d7d9056fe28\n",
      "2025-04-17 12:35:09,959 INFO status has been updated to accepted\n",
      "2025-04-17 12:35:32,012 INFO status has been updated to running\n",
      "2025-04-17 12:39:29,991 INFO status has been updated to successful\n"
     ]
    },
    {
     "data": {
      "application/vnd.jupyter.widget-view+json": {
       "model_id": "",
       "version_major": 2,
       "version_minor": 0
      },
      "text/plain": [
       "deb5cecd09a6940312f2a81ca3e75160.grib:   0%|          | 0.00/464k [00:00<?, ?B/s]"
      ]
     },
     "metadata": {},
     "output_type": "display_data"
    },
    {
     "name": "stderr",
     "output_type": "stream",
     "text": [
      "2025-04-17 12:39:31,182 INFO [2024-02-01T00:00:00] Please note that accessing this dataset via CDS for time-critical operation is not advised or supported\n",
      "2025-04-17 12:39:31,184 INFO [2024-02-01T00:00:00] Please note we suggest checking the list of known issues on the GloFAS wiki\n",
      "[here](https://confluence.ecmwf.int/display/CEMS/GloFAS+-+Known+Issues)\n",
      "before downloading the dataset.\n",
      "2025-04-17 12:39:31,186 INFO Request ID is b235f5b3-eddc-456c-a9df-9e78e84e5f33\n",
      "2025-04-17 12:39:31,290 INFO status has been updated to accepted\n",
      "2025-04-17 12:39:44,920 INFO status has been updated to running\n",
      "2025-04-17 12:43:50,462 INFO status has been updated to successful\n"
     ]
    },
    {
     "data": {
      "application/vnd.jupyter.widget-view+json": {
       "model_id": "",
       "version_major": 2,
       "version_minor": 0
      },
      "text/plain": [
       "a9fbc54a716eb4c9d33852ad54f432bf.grib:   0%|          | 0.00/465k [00:00<?, ?B/s]"
      ]
     },
     "metadata": {},
     "output_type": "display_data"
    },
    {
     "name": "stderr",
     "output_type": "stream",
     "text": [
      "2025-04-17 12:43:51,692 INFO [2024-02-01T00:00:00] Please note that accessing this dataset via CDS for time-critical operation is not advised or supported\n",
      "2025-04-17 12:43:51,695 INFO [2024-02-01T00:00:00] Please note we suggest checking the list of known issues on the GloFAS wiki\n",
      "[here](https://confluence.ecmwf.int/display/CEMS/GloFAS+-+Known+Issues)\n",
      "before downloading the dataset.\n",
      "2025-04-17 12:43:51,697 INFO Request ID is ce1461f6-18a2-4b24-a1df-8921a65935ae\n",
      "2025-04-17 12:43:51,787 INFO status has been updated to accepted\n",
      "2025-04-17 12:44:13,072 INFO status has been updated to running\n",
      "2025-04-17 12:50:11,359 INFO status has been updated to successful\n"
     ]
    },
    {
     "data": {
      "application/vnd.jupyter.widget-view+json": {
       "model_id": "",
       "version_major": 2,
       "version_minor": 0
      },
      "text/plain": [
       "9fd8d3662bcbbd69b86c5a8f7b19ce90.grib:   0%|          | 0.00/464k [00:00<?, ?B/s]"
      ]
     },
     "metadata": {},
     "output_type": "display_data"
    },
    {
     "name": "stderr",
     "output_type": "stream",
     "text": [
      "2025-04-17 12:50:12,819 INFO [2024-02-01T00:00:00] Please note that accessing this dataset via CDS for time-critical operation is not advised or supported\n",
      "2025-04-17 12:50:12,821 INFO [2024-02-01T00:00:00] Please note we suggest checking the list of known issues on the GloFAS wiki\n",
      "[here](https://confluence.ecmwf.int/display/CEMS/GloFAS+-+Known+Issues)\n",
      "before downloading the dataset.\n",
      "2025-04-17 12:50:12,823 INFO Request ID is 8f02915d-94d2-443b-b27b-a91ffbffd026\n",
      "2025-04-17 12:50:13,042 INFO status has been updated to accepted\n",
      "2025-04-17 12:50:26,661 INFO status has been updated to running\n",
      "2025-04-17 12:56:32,428 INFO status has been updated to successful\n"
     ]
    },
    {
     "data": {
      "application/vnd.jupyter.widget-view+json": {
       "model_id": "",
       "version_major": 2,
       "version_minor": 0
      },
      "text/plain": [
       "cc6b8481a25539eba721b5cf5cc37905.grib:   0%|          | 0.00/464k [00:00<?, ?B/s]"
      ]
     },
     "metadata": {},
     "output_type": "display_data"
    },
    {
     "name": "stderr",
     "output_type": "stream",
     "text": [
      "2025-04-17 12:56:33,500 INFO [2024-02-01T00:00:00] Please note that accessing this dataset via CDS for time-critical operation is not advised or supported\n",
      "2025-04-17 12:56:33,503 INFO [2024-02-01T00:00:00] Please note we suggest checking the list of known issues on the GloFAS wiki\n",
      "[here](https://confluence.ecmwf.int/display/CEMS/GloFAS+-+Known+Issues)\n",
      "before downloading the dataset.\n",
      "2025-04-17 12:56:33,505 INFO Request ID is c3316b73-15a9-43be-af58-40ef99b1885f\n",
      "2025-04-17 12:56:33,782 INFO status has been updated to accepted\n",
      "2025-04-17 12:56:42,369 INFO status has been updated to running\n",
      "2025-04-17 13:02:53,832 INFO status has been updated to successful\n"
     ]
    },
    {
     "data": {
      "application/vnd.jupyter.widget-view+json": {
       "model_id": "",
       "version_major": 2,
       "version_minor": 0
      },
      "text/plain": [
       "3c58bf779cc79a6b560fd02a49c47705.grib:   0%|          | 0.00/464k [00:00<?, ?B/s]"
      ]
     },
     "metadata": {},
     "output_type": "display_data"
    },
    {
     "name": "stderr",
     "output_type": "stream",
     "text": [
      "2025-04-17 13:02:55,021 INFO [2024-02-01T00:00:00] Please note that accessing this dataset via CDS for time-critical operation is not advised or supported\n",
      "2025-04-17 13:02:55,024 INFO [2024-02-01T00:00:00] Please note we suggest checking the list of known issues on the GloFAS wiki\n",
      "[here](https://confluence.ecmwf.int/display/CEMS/GloFAS+-+Known+Issues)\n",
      "before downloading the dataset.\n",
      "2025-04-17 13:02:55,026 INFO Request ID is f2a10ea0-a5d5-45f7-9c55-89dd8dec9870\n",
      "2025-04-17 13:02:55,102 INFO status has been updated to accepted\n",
      "2025-04-17 13:03:04,146 INFO status has been updated to running\n",
      "2025-04-17 13:07:14,934 INFO status has been updated to successful\n"
     ]
    },
    {
     "data": {
      "application/vnd.jupyter.widget-view+json": {
       "model_id": "",
       "version_major": 2,
       "version_minor": 0
      },
      "text/plain": [
       "bb3ab0cfca7dd9ef8b3db1cf28499cd4.grib:   0%|          | 0.00/465k [00:00<?, ?B/s]"
      ]
     },
     "metadata": {},
     "output_type": "display_data"
    },
    {
     "name": "stderr",
     "output_type": "stream",
     "text": [
      "2025-04-17 13:07:16,377 INFO [2024-02-01T00:00:00] Please note that accessing this dataset via CDS for time-critical operation is not advised or supported\n",
      "2025-04-17 13:07:16,380 INFO [2024-02-01T00:00:00] Please note we suggest checking the list of known issues on the GloFAS wiki\n",
      "[here](https://confluence.ecmwf.int/display/CEMS/GloFAS+-+Known+Issues)\n",
      "before downloading the dataset.\n",
      "2025-04-17 13:07:16,382 INFO Request ID is 83136f5c-d22e-4d47-bbbf-a51538adfb54\n",
      "2025-04-17 13:07:16,454 INFO status has been updated to accepted\n",
      "2025-04-17 13:07:30,477 INFO status has been updated to running\n",
      "2025-04-17 13:11:35,934 INFO status has been updated to successful\n"
     ]
    },
    {
     "data": {
      "application/vnd.jupyter.widget-view+json": {
       "model_id": "",
       "version_major": 2,
       "version_minor": 0
      },
      "text/plain": [
       "86646d788cdf225e593485fd0791eadb.grib:   0%|          | 0.00/464k [00:00<?, ?B/s]"
      ]
     },
     "metadata": {},
     "output_type": "display_data"
    },
    {
     "name": "stderr",
     "output_type": "stream",
     "text": [
      "2025-04-17 13:11:37,016 INFO [2024-02-01T00:00:00] Please note that accessing this dataset via CDS for time-critical operation is not advised or supported\n",
      "2025-04-17 13:11:37,018 INFO [2024-02-01T00:00:00] Please note we suggest checking the list of known issues on the GloFAS wiki\n",
      "[here](https://confluence.ecmwf.int/display/CEMS/GloFAS+-+Known+Issues)\n",
      "before downloading the dataset.\n",
      "2025-04-17 13:11:37,021 INFO Request ID is 98d38711-ff96-4918-98e7-822710468eb0\n",
      "2025-04-17 13:11:37,241 INFO status has been updated to accepted\n",
      "2025-04-17 13:11:50,776 INFO status has been updated to running\n",
      "2025-04-17 13:15:56,452 INFO status has been updated to successful\n"
     ]
    },
    {
     "data": {
      "application/vnd.jupyter.widget-view+json": {
       "model_id": "",
       "version_major": 2,
       "version_minor": 0
      },
      "text/plain": [
       "8b8207d141e1af662016f0a9af791b.grib:   0%|          | 0.00/464k [00:00<?, ?B/s]"
      ]
     },
     "metadata": {},
     "output_type": "display_data"
    },
    {
     "name": "stderr",
     "output_type": "stream",
     "text": [
      "2025-04-17 13:15:57,582 INFO [2024-02-01T00:00:00] Please note that accessing this dataset via CDS for time-critical operation is not advised or supported\n",
      "2025-04-17 13:15:57,586 INFO [2024-02-01T00:00:00] Please note we suggest checking the list of known issues on the GloFAS wiki\n",
      "[here](https://confluence.ecmwf.int/display/CEMS/GloFAS+-+Known+Issues)\n",
      "before downloading the dataset.\n",
      "2025-04-17 13:15:57,588 INFO Request ID is 36be7328-d0e6-45a0-a8e4-0a6d8529d74a\n",
      "2025-04-17 13:15:57,676 INFO status has been updated to accepted\n",
      "2025-04-17 13:16:12,039 INFO status has been updated to running\n",
      "2025-04-17 13:20:17,822 INFO status has been updated to successful\n"
     ]
    },
    {
     "data": {
      "application/vnd.jupyter.widget-view+json": {
       "model_id": "",
       "version_major": 2,
       "version_minor": 0
      },
      "text/plain": [
       "81aa7c79def2c874f073d0c4af5896a3.grib:   0%|          | 0.00/464k [00:00<?, ?B/s]"
      ]
     },
     "metadata": {},
     "output_type": "display_data"
    },
    {
     "name": "stderr",
     "output_type": "stream",
     "text": [
      "2025-04-17 13:20:18,974 INFO [2024-02-01T00:00:00] Please note that accessing this dataset via CDS for time-critical operation is not advised or supported\n",
      "2025-04-17 13:20:18,976 INFO [2024-02-01T00:00:00] Please note we suggest checking the list of known issues on the GloFAS wiki\n",
      "[here](https://confluence.ecmwf.int/display/CEMS/GloFAS+-+Known+Issues)\n",
      "before downloading the dataset.\n",
      "2025-04-17 13:20:18,978 INFO Request ID is b4756a01-5868-49a3-a5c8-e67cd3e77b6c\n",
      "2025-04-17 13:20:19,052 INFO status has been updated to accepted\n",
      "2025-04-17 13:20:51,733 INFO status has been updated to running\n",
      "2025-04-17 13:24:43,487 INFO status has been updated to successful\n"
     ]
    },
    {
     "data": {
      "application/vnd.jupyter.widget-view+json": {
       "model_id": "",
       "version_major": 2,
       "version_minor": 0
      },
      "text/plain": [
       "c662991f77fb616f41fe0cf98b5d7701.grib:   0%|          | 0.00/465k [00:00<?, ?B/s]"
      ]
     },
     "metadata": {},
     "output_type": "display_data"
    },
    {
     "name": "stderr",
     "output_type": "stream",
     "text": [
      "2025-04-17 13:24:45,307 INFO [2024-02-01T00:00:00] Please note that accessing this dataset via CDS for time-critical operation is not advised or supported\n",
      "2025-04-17 13:24:45,310 INFO [2024-02-01T00:00:00] Please note we suggest checking the list of known issues on the GloFAS wiki\n",
      "[here](https://confluence.ecmwf.int/display/CEMS/GloFAS+-+Known+Issues)\n",
      "before downloading the dataset.\n",
      "2025-04-17 13:24:45,312 INFO Request ID is c99685d6-1057-4d25-a583-6cee3364227a\n",
      "2025-04-17 13:24:45,391 INFO status has been updated to accepted\n",
      "2025-04-17 13:24:59,215 INFO status has been updated to running\n",
      "2025-04-17 13:29:05,051 INFO status has been updated to successful\n"
     ]
    },
    {
     "data": {
      "application/vnd.jupyter.widget-view+json": {
       "model_id": "",
       "version_major": 2,
       "version_minor": 0
      },
      "text/plain": [
       "75e7ca45dcdcf07f4053c7eac3d27ae7.grib:   0%|          | 0.00/464k [00:00<?, ?B/s]"
      ]
     },
     "metadata": {},
     "output_type": "display_data"
    },
    {
     "name": "stderr",
     "output_type": "stream",
     "text": [
      "2025-04-17 13:29:05,953 INFO [2024-02-01T00:00:00] Please note that accessing this dataset via CDS for time-critical operation is not advised or supported\n",
      "2025-04-17 13:29:05,956 INFO [2024-02-01T00:00:00] Please note we suggest checking the list of known issues on the GloFAS wiki\n",
      "[here](https://confluence.ecmwf.int/display/CEMS/GloFAS+-+Known+Issues)\n",
      "before downloading the dataset.\n",
      "2025-04-17 13:29:05,957 INFO Request ID is 5293ef93-1b25-4c29-8dec-8e53aa935ec6\n",
      "2025-04-17 13:29:06,072 INFO status has been updated to accepted\n",
      "2025-04-17 13:29:19,895 INFO status has been updated to running\n",
      "2025-04-17 13:33:25,339 INFO status has been updated to successful\n"
     ]
    },
    {
     "data": {
      "application/vnd.jupyter.widget-view+json": {
       "model_id": "",
       "version_major": 2,
       "version_minor": 0
      },
      "text/plain": [
       "a7817f4a1f0f7e5f612e7be97aa3e0ba.grib:   0%|          | 0.00/464k [00:00<?, ?B/s]"
      ]
     },
     "metadata": {},
     "output_type": "display_data"
    },
    {
     "name": "stderr",
     "output_type": "stream",
     "text": [
      "2025-04-17 13:33:26,619 INFO [2024-02-01T00:00:00] Please note that accessing this dataset via CDS for time-critical operation is not advised or supported\n",
      "2025-04-17 13:33:26,622 INFO [2024-02-01T00:00:00] Please note we suggest checking the list of known issues on the GloFAS wiki\n",
      "[here](https://confluence.ecmwf.int/display/CEMS/GloFAS+-+Known+Issues)\n",
      "before downloading the dataset.\n",
      "2025-04-17 13:33:26,623 INFO Request ID is 4be2c185-88cc-4ca2-ab47-9504adc062f6\n",
      "2025-04-17 13:33:26,694 INFO status has been updated to accepted\n",
      "2025-04-17 13:33:40,563 INFO status has been updated to running\n",
      "2025-04-17 13:36:19,197 INFO status has been updated to accepted\n",
      "2025-04-17 13:41:46,569 INFO status has been updated to running\n",
      "2025-04-17 13:45:47,140 INFO status has been updated to successful\n"
     ]
    },
    {
     "data": {
      "application/vnd.jupyter.widget-view+json": {
       "model_id": "",
       "version_major": 2,
       "version_minor": 0
      },
      "text/plain": [
       "5af83239084037079d3ec971098db5da.grib:   0%|          | 0.00/464k [00:00<?, ?B/s]"
      ]
     },
     "metadata": {},
     "output_type": "display_data"
    },
    {
     "name": "stderr",
     "output_type": "stream",
     "text": [
      "2025-04-17 13:45:48,909 INFO [2024-02-01T00:00:00] Please note that accessing this dataset via CDS for time-critical operation is not advised or supported\n",
      "2025-04-17 13:45:48,911 INFO [2024-02-01T00:00:00] Please note we suggest checking the list of known issues on the GloFAS wiki\n",
      "[here](https://confluence.ecmwf.int/display/CEMS/GloFAS+-+Known+Issues)\n",
      "before downloading the dataset.\n",
      "2025-04-17 13:45:48,913 INFO Request ID is f263608f-9a13-4cda-90cf-0d038b084b8e\n",
      "2025-04-17 13:45:49,219 INFO status has been updated to accepted\n",
      "2025-04-17 13:50:09,104 INFO status has been updated to running\n",
      "2025-04-17 13:54:09,593 INFO status has been updated to successful\n"
     ]
    },
    {
     "data": {
      "application/vnd.jupyter.widget-view+json": {
       "model_id": "",
       "version_major": 2,
       "version_minor": 0
      },
      "text/plain": [
       "8df500decb14b0ce816737ae279d0b63.grib:   0%|          | 0.00/465k [00:00<?, ?B/s]"
      ]
     },
     "metadata": {},
     "output_type": "display_data"
    },
    {
     "name": "stderr",
     "output_type": "stream",
     "text": [
      "2025-04-17 13:54:10,688 INFO [2024-02-01T00:00:00] Please note that accessing this dataset via CDS for time-critical operation is not advised or supported\n",
      "2025-04-17 13:54:10,690 INFO [2024-02-01T00:00:00] Please note we suggest checking the list of known issues on the GloFAS wiki\n",
      "[here](https://confluence.ecmwf.int/display/CEMS/GloFAS+-+Known+Issues)\n",
      "before downloading the dataset.\n",
      "2025-04-17 13:54:10,692 INFO Request ID is aecda6c7-b068-4f85-8063-755f6f7e7af1\n",
      "2025-04-17 13:54:10,771 INFO status has been updated to accepted\n",
      "2025-04-17 13:57:03,051 INFO status has been updated to running\n",
      "2025-04-17 13:58:29,830 INFO status has been updated to successful\n"
     ]
    },
    {
     "data": {
      "application/vnd.jupyter.widget-view+json": {
       "model_id": "df7b9b710d9c4f58a712e4da77484146",
       "version_major": 2,
       "version_minor": 0
      },
      "text/plain": [
       "4149867fc0acff4d62777ccbce67634e.grib:   0%|          | 0.00/39.4k [00:00<?, ?B/s]"
      ]
     },
     "metadata": {},
     "output_type": "display_data"
    },
    {
     "name": "stderr",
     "output_type": "stream",
     "text": [
      "2025-04-17 13:58:30,944 INFO [2024-09-26T00:00:00] Watch our [Forum]( https://forum.ecmwf.int/) for Announcements, news and other discussed topics.\n"
     ]
    },
    {
     "name": "stdout",
     "output_type": "stream",
     "text": [
      "[19.0, 37.0, 18.0, 38.0]\n",
      "0\n"
     ]
    },
    {
     "name": "stderr",
     "output_type": "stream",
     "text": [
      "2025-04-17 13:58:31,244 INFO [2024-02-01T00:00:00] Please note that accessing this dataset via CDS for time-critical operation is not advised or supported\n",
      "2025-04-17 13:58:31,246 INFO [2024-02-01T00:00:00] Please note we suggest checking the list of known issues on the GloFAS wiki\n",
      "[here](https://confluence.ecmwf.int/display/CEMS/GloFAS+-+Known+Issues)\n",
      "before downloading the dataset.\n",
      "2025-04-17 13:58:31,248 INFO Request ID is 7afd6bac-c183-4875-8096-2531e23af153\n",
      "2025-04-17 13:58:31,462 INFO status has been updated to accepted\n",
      "2025-04-17 13:58:45,289 INFO status has been updated to running\n",
      "2025-04-17 13:59:04,450 INFO status has been updated to successful\n"
     ]
    },
    {
     "data": {
      "application/vnd.jupyter.widget-view+json": {
       "model_id": "67987b6989304f58b005e84f57201236",
       "version_major": 2,
       "version_minor": 0
      },
      "text/plain": [
       "74f9822dd057e9067f51cd1e10189977.grib:   0%|          | 0.00/465k [00:00<?, ?B/s]"
      ]
     },
     "metadata": {},
     "output_type": "display_data"
    },
    {
     "name": "stderr",
     "output_type": "stream",
     "text": [
      "2025-04-17 13:59:05,523 INFO [2024-02-01T00:00:00] Please note that accessing this dataset via CDS for time-critical operation is not advised or supported\n",
      "2025-04-17 13:59:05,525 INFO [2024-02-01T00:00:00] Please note we suggest checking the list of known issues on the GloFAS wiki\n",
      "[here](https://confluence.ecmwf.int/display/CEMS/GloFAS+-+Known+Issues)\n",
      "before downloading the dataset.\n",
      "2025-04-17 13:59:05,527 INFO Request ID is 6a164748-60ad-4ca6-8d96-9a639fbcc5ae\n",
      "2025-04-17 13:59:05,583 INFO status has been updated to accepted\n",
      "2025-04-17 14:03:24,371 INFO status has been updated to successful\n"
     ]
    },
    {
     "data": {
      "application/vnd.jupyter.widget-view+json": {
       "model_id": "8d14ca2b403543358a9b693dee9c56f5",
       "version_major": 2,
       "version_minor": 0
      },
      "text/plain": [
       "eaca1fd6e7b715c87c73e0eead15f04e.grib:   0%|          | 0.00/464k [00:00<?, ?B/s]"
      ]
     },
     "metadata": {},
     "output_type": "display_data"
    },
    {
     "name": "stderr",
     "output_type": "stream",
     "text": [
      "2025-04-17 14:03:25,528 INFO [2024-02-01T00:00:00] Please note that accessing this dataset via CDS for time-critical operation is not advised or supported\n",
      "2025-04-17 14:03:25,530 INFO [2024-02-01T00:00:00] Please note we suggest checking the list of known issues on the GloFAS wiki\n",
      "[here](https://confluence.ecmwf.int/display/CEMS/GloFAS+-+Known+Issues)\n",
      "before downloading the dataset.\n",
      "2025-04-17 14:03:25,532 INFO Request ID is a6b9b176-dfee-4abb-9a78-ca8cc944d565\n",
      "2025-04-17 14:03:25,609 INFO status has been updated to accepted\n",
      "2025-04-17 14:07:44,947 INFO status has been updated to successful\n"
     ]
    },
    {
     "data": {
      "application/vnd.jupyter.widget-view+json": {
       "model_id": "ab4d98d3c06e4567858c104169d4862e",
       "version_major": 2,
       "version_minor": 0
      },
      "text/plain": [
       "a80960c0398cf1007f5c28054ad46b0e.grib:   0%|          | 0.00/464k [00:00<?, ?B/s]"
      ]
     },
     "metadata": {},
     "output_type": "display_data"
    },
    {
     "name": "stderr",
     "output_type": "stream",
     "text": [
      "2025-04-17 14:07:45,897 INFO [2024-02-01T00:00:00] Please note that accessing this dataset via CDS for time-critical operation is not advised or supported\n",
      "2025-04-17 14:07:45,899 INFO [2024-02-01T00:00:00] Please note we suggest checking the list of known issues on the GloFAS wiki\n",
      "[here](https://confluence.ecmwf.int/display/CEMS/GloFAS+-+Known+Issues)\n",
      "before downloading the dataset.\n",
      "2025-04-17 14:07:45,902 INFO Request ID is 08ea2db6-3b76-4be7-b4f2-0c6c30a34774\n",
      "2025-04-17 14:07:45,994 INFO status has been updated to accepted\n",
      "2025-04-17 14:12:05,146 INFO status has been updated to successful\n"
     ]
    },
    {
     "data": {
      "application/vnd.jupyter.widget-view+json": {
       "model_id": "7b050a033e3548f5a759d47370744237",
       "version_major": 2,
       "version_minor": 0
      },
      "text/plain": [
       "2cf99d4fbffeffdb76b8a390474f6230.grib:   0%|          | 0.00/464k [00:00<?, ?B/s]"
      ]
     },
     "metadata": {},
     "output_type": "display_data"
    },
    {
     "name": "stderr",
     "output_type": "stream",
     "text": [
      "2025-04-17 14:12:06,247 INFO [2024-02-01T00:00:00] Please note that accessing this dataset via CDS for time-critical operation is not advised or supported\n",
      "2025-04-17 14:12:06,250 INFO [2024-02-01T00:00:00] Please note we suggest checking the list of known issues on the GloFAS wiki\n",
      "[here](https://confluence.ecmwf.int/display/CEMS/GloFAS+-+Known+Issues)\n",
      "before downloading the dataset.\n",
      "2025-04-17 14:12:06,252 INFO Request ID is 32750639-e29a-4281-b76c-69ed17b4f527\n",
      "2025-04-17 14:12:06,441 INFO status has been updated to accepted\n",
      "2025-04-17 14:12:15,051 INFO status has been updated to running\n",
      "2025-04-17 14:12:20,311 INFO status has been updated to successful\n"
     ]
    },
    {
     "data": {
      "application/vnd.jupyter.widget-view+json": {
       "model_id": "56288fe80b12400785fb0816ca2a16f4",
       "version_major": 2,
       "version_minor": 0
      },
      "text/plain": [
       "15e3efe1c0ad87e8505b6c96421d05ca.grib:   0%|          | 0.00/465k [00:00<?, ?B/s]"
      ]
     },
     "metadata": {},
     "output_type": "display_data"
    },
    {
     "name": "stderr",
     "output_type": "stream",
     "text": [
      "2025-04-17 14:12:21,930 INFO [2024-02-01T00:00:00] Please note that accessing this dataset via CDS for time-critical operation is not advised or supported\n",
      "2025-04-17 14:12:21,933 INFO [2024-02-01T00:00:00] Please note we suggest checking the list of known issues on the GloFAS wiki\n",
      "[here](https://confluence.ecmwf.int/display/CEMS/GloFAS+-+Known+Issues)\n",
      "before downloading the dataset.\n",
      "2025-04-17 14:12:21,935 INFO Request ID is 45fef54d-712a-4304-b6a9-ca0e7f4c8428\n",
      "2025-04-17 14:12:22,047 INFO status has been updated to accepted\n",
      "2025-04-17 14:12:30,462 INFO status has been updated to running\n",
      "2025-04-17 14:12:36,219 INFO status has been updated to successful\n"
     ]
    },
    {
     "data": {
      "application/vnd.jupyter.widget-view+json": {
       "model_id": "f5cbf1fdc96745e0a362fda81b49fbb8",
       "version_major": 2,
       "version_minor": 0
      },
      "text/plain": [
       "7446b15aef18851d3f23d221aebd4740.grib:   0%|          | 0.00/464k [00:00<?, ?B/s]"
      ]
     },
     "metadata": {},
     "output_type": "display_data"
    },
    {
     "name": "stderr",
     "output_type": "stream",
     "text": [
      "2025-04-17 14:12:37,289 INFO [2024-02-01T00:00:00] Please note that accessing this dataset via CDS for time-critical operation is not advised or supported\n",
      "2025-04-17 14:12:37,291 INFO [2024-02-01T00:00:00] Please note we suggest checking the list of known issues on the GloFAS wiki\n",
      "[here](https://confluence.ecmwf.int/display/CEMS/GloFAS+-+Known+Issues)\n",
      "before downloading the dataset.\n",
      "2025-04-17 14:12:37,293 INFO Request ID is f708e82f-f528-42f6-82c8-7ed6ab9fa464\n",
      "2025-04-17 14:12:37,413 INFO status has been updated to accepted\n",
      "2025-04-17 14:12:51,232 INFO status has been updated to successful\n"
     ]
    },
    {
     "data": {
      "application/vnd.jupyter.widget-view+json": {
       "model_id": "40060d9b966d4870bf86beec2b60eed4",
       "version_major": 2,
       "version_minor": 0
      },
      "text/plain": [
       "3671e71f06e4e2d70f8ba4d1b21168db.grib:   0%|          | 0.00/464k [00:00<?, ?B/s]"
      ]
     },
     "metadata": {},
     "output_type": "display_data"
    },
    {
     "name": "stderr",
     "output_type": "stream",
     "text": [
      "2025-04-17 14:12:52,471 INFO [2024-02-01T00:00:00] Please note that accessing this dataset via CDS for time-critical operation is not advised or supported\n",
      "2025-04-17 14:12:52,473 INFO [2024-02-01T00:00:00] Please note we suggest checking the list of known issues on the GloFAS wiki\n",
      "[here](https://confluence.ecmwf.int/display/CEMS/GloFAS+-+Known+Issues)\n",
      "before downloading the dataset.\n",
      "2025-04-17 14:12:52,475 INFO Request ID is fdf49bdf-3985-41fc-b384-1b0091fdf243\n",
      "2025-04-17 14:12:52,536 INFO status has been updated to accepted\n",
      "2025-04-17 14:13:01,441 INFO status has been updated to running\n",
      "2025-04-17 14:13:06,607 INFO status has been updated to successful\n"
     ]
    },
    {
     "data": {
      "application/vnd.jupyter.widget-view+json": {
       "model_id": "b14bddfc1359430fbe765eeb14f66107",
       "version_major": 2,
       "version_minor": 0
      },
      "text/plain": [
       "f3aba5f2bdabacb30ee72f534401c920.grib:   0%|          | 0.00/464k [00:00<?, ?B/s]"
      ]
     },
     "metadata": {},
     "output_type": "display_data"
    },
    {
     "name": "stderr",
     "output_type": "stream",
     "text": [
      "2025-04-17 14:13:07,572 INFO [2024-02-01T00:00:00] Please note that accessing this dataset via CDS for time-critical operation is not advised or supported\n",
      "2025-04-17 14:13:07,575 INFO [2024-02-01T00:00:00] Please note we suggest checking the list of known issues on the GloFAS wiki\n",
      "[here](https://confluence.ecmwf.int/display/CEMS/GloFAS+-+Known+Issues)\n",
      "before downloading the dataset.\n",
      "2025-04-17 14:13:07,577 INFO Request ID is 01695818-21f6-4388-9ffd-501e4027bef1\n",
      "2025-04-17 14:13:07,649 INFO status has been updated to accepted\n",
      "2025-04-17 14:13:16,292 INFO status has been updated to running\n",
      "2025-04-17 14:13:21,430 INFO status has been updated to successful\n"
     ]
    },
    {
     "data": {
      "application/vnd.jupyter.widget-view+json": {
       "model_id": "fa0a73eca4ab475db325764a02d602b0",
       "version_major": 2,
       "version_minor": 0
      },
      "text/plain": [
       "c6c8f4eb98feef8b230013d88a4a2676.grib:   0%|          | 0.00/465k [00:00<?, ?B/s]"
      ]
     },
     "metadata": {},
     "output_type": "display_data"
    },
    {
     "name": "stderr",
     "output_type": "stream",
     "text": [
      "2025-04-17 14:13:22,789 INFO [2024-02-01T00:00:00] Please note that accessing this dataset via CDS for time-critical operation is not advised or supported\n",
      "2025-04-17 14:13:22,791 INFO [2024-02-01T00:00:00] Please note we suggest checking the list of known issues on the GloFAS wiki\n",
      "[here](https://confluence.ecmwf.int/display/CEMS/GloFAS+-+Known+Issues)\n",
      "before downloading the dataset.\n",
      "2025-04-17 14:13:22,793 INFO Request ID is 1a0555eb-25ad-4008-8969-e2ff75dc4cef\n",
      "2025-04-17 14:13:23,376 INFO status has been updated to accepted\n",
      "2025-04-17 14:13:32,191 INFO status has been updated to running\n",
      "2025-04-17 14:13:37,335 INFO status has been updated to accepted\n",
      "2025-04-17 14:13:45,048 INFO status has been updated to successful\n"
     ]
    },
    {
     "data": {
      "application/vnd.jupyter.widget-view+json": {
       "model_id": "f9cd76704cb541dda9f410d0493ecdd3",
       "version_major": 2,
       "version_minor": 0
      },
      "text/plain": [
       "a83d6bddc8c71dddf2c961def1ff1bc0.grib:   0%|          | 0.00/464k [00:00<?, ?B/s]"
      ]
     },
     "metadata": {},
     "output_type": "display_data"
    },
    {
     "name": "stderr",
     "output_type": "stream",
     "text": [
      "2025-04-17 14:13:45,951 INFO [2024-02-01T00:00:00] Please note that accessing this dataset via CDS for time-critical operation is not advised or supported\n",
      "2025-04-17 14:13:45,953 INFO [2024-02-01T00:00:00] Please note we suggest checking the list of known issues on the GloFAS wiki\n",
      "[here](https://confluence.ecmwf.int/display/CEMS/GloFAS+-+Known+Issues)\n",
      "before downloading the dataset.\n",
      "2025-04-17 14:13:45,954 INFO Request ID is bf86766e-d77b-4cc5-b9c4-9b89ee51ff6c\n",
      "2025-04-17 14:13:46,191 INFO status has been updated to accepted\n",
      "2025-04-17 14:13:59,736 INFO status has been updated to running\n",
      "2025-04-17 14:14:07,401 INFO status has been updated to successful\n"
     ]
    },
    {
     "data": {
      "application/vnd.jupyter.widget-view+json": {
       "model_id": "682d28e8795345ac853a36b3dc9f9a67",
       "version_major": 2,
       "version_minor": 0
      },
      "text/plain": [
       "c412d1e81051f7d8eb19ab5e01d84769.grib:   0%|          | 0.00/464k [00:00<?, ?B/s]"
      ]
     },
     "metadata": {},
     "output_type": "display_data"
    },
    {
     "name": "stderr",
     "output_type": "stream",
     "text": [
      "2025-04-17 14:14:09,007 INFO [2024-02-01T00:00:00] Please note that accessing this dataset via CDS for time-critical operation is not advised or supported\n",
      "2025-04-17 14:14:09,009 INFO [2024-02-01T00:00:00] Please note we suggest checking the list of known issues on the GloFAS wiki\n",
      "[here](https://confluence.ecmwf.int/display/CEMS/GloFAS+-+Known+Issues)\n",
      "before downloading the dataset.\n",
      "2025-04-17 14:14:09,011 INFO Request ID is 18cb0e24-bfcc-45fc-87ef-a032bd61c976\n",
      "2025-04-17 14:14:09,094 INFO status has been updated to accepted\n",
      "2025-04-17 14:18:29,292 INFO status has been updated to successful\n"
     ]
    },
    {
     "data": {
      "application/vnd.jupyter.widget-view+json": {
       "model_id": "f4c9e9d9a52847dc88e364958fd2a711",
       "version_major": 2,
       "version_minor": 0
      },
      "text/plain": [
       "deb5cecd09a6940312f2a81ca3e75160.grib:   0%|          | 0.00/464k [00:00<?, ?B/s]"
      ]
     },
     "metadata": {},
     "output_type": "display_data"
    },
    {
     "name": "stderr",
     "output_type": "stream",
     "text": [
      "2025-04-17 14:18:30,260 INFO [2024-02-01T00:00:00] Please note that accessing this dataset via CDS for time-critical operation is not advised or supported\n",
      "2025-04-17 14:18:30,262 INFO [2024-02-01T00:00:00] Please note we suggest checking the list of known issues on the GloFAS wiki\n",
      "[here](https://confluence.ecmwf.int/display/CEMS/GloFAS+-+Known+Issues)\n",
      "before downloading the dataset.\n",
      "2025-04-17 14:18:30,264 INFO Request ID is 5900f89b-8c18-47b0-99f2-5f0bb9375e4d\n",
      "2025-04-17 14:18:30,450 INFO status has been updated to accepted\n"
     ]
    },
    {
     "ename": "KeyboardInterrupt",
     "evalue": "",
     "output_type": "error",
     "traceback": [
      "\u001b[0;31m---------------------------------------------------------------------------\u001b[0m",
      "\u001b[0;31mKeyboardInterrupt\u001b[0m                         Traceback (most recent call last)",
      "Cell \u001b[0;32mIn [12], line 14\u001b[0m\n\u001b[1;32m     11\u001b[0m roi \u001b[38;5;241m=\u001b[39m [lat_ceil, lon_floor, lat_floor, lon_ceil] \u001b[38;5;66;03m# North, West, South, East\u001b[39;00m\n\u001b[1;32m     13\u001b[0m out_name \u001b[38;5;241m=\u001b[39m \u001b[38;5;124m'\u001b[39m\u001b[38;5;124m./outlet_discharge/\u001b[39m\u001b[38;5;124m'\u001b[39m \u001b[38;5;241m+\u001b[39m \u001b[38;5;28mstr\u001b[39m(i) \u001b[38;5;241m+\u001b[39m \u001b[38;5;124m'\u001b[39m\u001b[38;5;124m_\u001b[39m\u001b[38;5;124m'\u001b[39m\u001b[38;5;66;03m# + '.grib2'\u001b[39;00m\n\u001b[0;32m---> 14\u001b[0m get_glofas_for_point(roi, out_name)\n\u001b[1;32m     16\u001b[0m \u001b[38;5;28mprint\u001b[39m(roi)\n\u001b[1;32m     17\u001b[0m \u001b[38;5;28mprint\u001b[39m(i)\n",
      "Cell \u001b[0;32mIn [8], line 11\u001b[0m, in \u001b[0;36mget_glofas_for_point\u001b[0;34m(roi, output_path)\u001b[0m\n\u001b[1;32m      9\u001b[0m \u001b[38;5;28;01mfor\u001b[39;00m i \u001b[38;5;129;01min\u001b[39;00m \u001b[38;5;28mrange\u001b[39m(start_year, end_year): \n\u001b[1;32m     10\u001b[0m     download_name \u001b[38;5;241m=\u001b[39m output_path \u001b[38;5;241m+\u001b[39m \u001b[38;5;28mstr\u001b[39m(i) \u001b[38;5;241m+\u001b[39m \u001b[38;5;124m'\u001b[39m\u001b[38;5;124m.grib2\u001b[39m\u001b[38;5;124m'\u001b[39m \u001b[38;5;66;03m#'./glofas4_data_hoa/glofas4_hoa_' + str(i) + '.grib2'\u001b[39;00m\n\u001b[0;32m---> 11\u001b[0m     \u001b[43mc\u001b[49m\u001b[38;5;241;43m.\u001b[39;49m\u001b[43mretrieve\u001b[49m\u001b[43m(\u001b[49m\n\u001b[1;32m     12\u001b[0m \u001b[43m        \u001b[49m\u001b[38;5;124;43m'\u001b[39;49m\u001b[38;5;124;43mcems-glofas-historical\u001b[39;49m\u001b[38;5;124;43m'\u001b[39;49m\u001b[43m,\u001b[49m\n\u001b[1;32m     13\u001b[0m \u001b[43m        \u001b[49m\u001b[43m{\u001b[49m\n\u001b[1;32m     14\u001b[0m \u001b[43m            \u001b[49m\u001b[38;5;124;43m'\u001b[39;49m\u001b[38;5;124;43msystem_version\u001b[39;49m\u001b[38;5;124;43m'\u001b[39;49m\u001b[43m:\u001b[49m\u001b[43m \u001b[49m\u001b[38;5;124;43m'\u001b[39;49m\u001b[38;5;124;43mversion_4_0\u001b[39;49m\u001b[38;5;124;43m'\u001b[39;49m\u001b[43m,\u001b[49m\n\u001b[1;32m     15\u001b[0m \u001b[43m            \u001b[49m\u001b[38;5;124;43m'\u001b[39;49m\u001b[38;5;124;43mhydrological_model\u001b[39;49m\u001b[38;5;124;43m'\u001b[39;49m\u001b[43m:\u001b[49m\u001b[43m \u001b[49m\u001b[38;5;124;43m'\u001b[39;49m\u001b[38;5;124;43mlisflood\u001b[39;49m\u001b[38;5;124;43m'\u001b[39;49m\u001b[43m,\u001b[49m\n\u001b[1;32m     16\u001b[0m \u001b[43m            \u001b[49m\u001b[38;5;124;43m'\u001b[39;49m\u001b[38;5;124;43mproduct_type\u001b[39;49m\u001b[38;5;124;43m'\u001b[39;49m\u001b[43m:\u001b[49m\u001b[43m \u001b[49m\u001b[38;5;124;43m'\u001b[39;49m\u001b[38;5;124;43mconsolidated\u001b[39;49m\u001b[38;5;124;43m'\u001b[39;49m\u001b[43m,\u001b[49m\n\u001b[1;32m     17\u001b[0m \u001b[43m            \u001b[49m\u001b[38;5;124;43m'\u001b[39;49m\u001b[38;5;124;43mvariable\u001b[39;49m\u001b[38;5;124;43m'\u001b[39;49m\u001b[43m:\u001b[49m\u001b[43m \u001b[49m\u001b[38;5;124;43m'\u001b[39;49m\u001b[38;5;124;43mriver_discharge_in_the_last_24_hours\u001b[39;49m\u001b[38;5;124;43m'\u001b[39;49m\u001b[43m,\u001b[49m\n\u001b[1;32m     18\u001b[0m \u001b[43m            \u001b[49m\u001b[38;5;124;43m\"\u001b[39;49m\u001b[38;5;124;43mhyear\u001b[39;49m\u001b[38;5;124;43m\"\u001b[39;49m\u001b[43m:\u001b[49m\u001b[43m \u001b[49m\u001b[38;5;28;43mstr\u001b[39;49m\u001b[43m(\u001b[49m\u001b[43mi\u001b[49m\u001b[43m)\u001b[49m\u001b[43m,\u001b[49m\n\u001b[1;32m     19\u001b[0m \u001b[43m            \u001b[49m\u001b[38;5;124;43m\"\u001b[39;49m\u001b[38;5;124;43mhmonth\u001b[39;49m\u001b[38;5;124;43m\"\u001b[39;49m\u001b[43m:\u001b[49m\u001b[43m \u001b[49m\u001b[43m[\u001b[49m\n\u001b[1;32m     20\u001b[0m \u001b[43m                        \u001b[49m\u001b[38;5;124;43m\"\u001b[39;49m\u001b[38;5;124;43m01\u001b[39;49m\u001b[38;5;124;43m\"\u001b[39;49m\u001b[43m,\u001b[49m\n\u001b[1;32m     21\u001b[0m \u001b[43m                        \u001b[49m\u001b[38;5;124;43m\"\u001b[39;49m\u001b[38;5;124;43m02\u001b[39;49m\u001b[38;5;124;43m\"\u001b[39;49m\u001b[43m,\u001b[49m\n\u001b[1;32m     22\u001b[0m \u001b[43m                        \u001b[49m\u001b[38;5;124;43m\"\u001b[39;49m\u001b[38;5;124;43m03\u001b[39;49m\u001b[38;5;124;43m\"\u001b[39;49m\u001b[43m,\u001b[49m\n\u001b[1;32m     23\u001b[0m \u001b[43m                        \u001b[49m\u001b[38;5;124;43m\"\u001b[39;49m\u001b[38;5;124;43m04\u001b[39;49m\u001b[38;5;124;43m\"\u001b[39;49m\u001b[43m,\u001b[49m\n\u001b[1;32m     24\u001b[0m \u001b[43m                        \u001b[49m\u001b[38;5;124;43m\"\u001b[39;49m\u001b[38;5;124;43m05\u001b[39;49m\u001b[38;5;124;43m\"\u001b[39;49m\u001b[43m,\u001b[49m\n\u001b[1;32m     25\u001b[0m \u001b[43m                        \u001b[49m\u001b[38;5;124;43m\"\u001b[39;49m\u001b[38;5;124;43m06\u001b[39;49m\u001b[38;5;124;43m\"\u001b[39;49m\u001b[43m,\u001b[49m\n\u001b[1;32m     26\u001b[0m \u001b[43m                        \u001b[49m\u001b[38;5;124;43m\"\u001b[39;49m\u001b[38;5;124;43m07\u001b[39;49m\u001b[38;5;124;43m\"\u001b[39;49m\u001b[43m,\u001b[49m\n\u001b[1;32m     27\u001b[0m \u001b[43m                        \u001b[49m\u001b[38;5;124;43m\"\u001b[39;49m\u001b[38;5;124;43m08\u001b[39;49m\u001b[38;5;124;43m\"\u001b[39;49m\u001b[43m,\u001b[49m\n\u001b[1;32m     28\u001b[0m \u001b[43m                        \u001b[49m\u001b[38;5;124;43m\"\u001b[39;49m\u001b[38;5;124;43m09\u001b[39;49m\u001b[38;5;124;43m\"\u001b[39;49m\u001b[43m,\u001b[49m\n\u001b[1;32m     29\u001b[0m \u001b[43m                        \u001b[49m\u001b[38;5;124;43m\"\u001b[39;49m\u001b[38;5;124;43m10\u001b[39;49m\u001b[38;5;124;43m\"\u001b[39;49m\u001b[43m,\u001b[49m\n\u001b[1;32m     30\u001b[0m \u001b[43m                        \u001b[49m\u001b[38;5;124;43m\"\u001b[39;49m\u001b[38;5;124;43m11\u001b[39;49m\u001b[38;5;124;43m\"\u001b[39;49m\u001b[43m,\u001b[49m\n\u001b[1;32m     31\u001b[0m \u001b[43m                        \u001b[49m\u001b[38;5;124;43m\"\u001b[39;49m\u001b[38;5;124;43m12\u001b[39;49m\u001b[38;5;124;43m\"\u001b[39;49m\n\u001b[1;32m     32\u001b[0m \u001b[43m                    \u001b[49m\u001b[43m]\u001b[49m\u001b[43m,\u001b[49m\n\u001b[1;32m     33\u001b[0m \u001b[43m            \u001b[49m\u001b[38;5;124;43m'\u001b[39;49m\u001b[38;5;124;43mhday\u001b[39;49m\u001b[38;5;124;43m'\u001b[39;49m\u001b[43m:\u001b[49m\u001b[43m \u001b[49m\u001b[43m[\u001b[49m\n\u001b[1;32m     34\u001b[0m \u001b[43m            \u001b[49m\u001b[38;5;124;43m'\u001b[39;49m\u001b[38;5;124;43m01\u001b[39;49m\u001b[38;5;124;43m'\u001b[39;49m\u001b[43m,\u001b[49m\u001b[43m \u001b[49m\u001b[38;5;124;43m'\u001b[39;49m\u001b[38;5;124;43m02\u001b[39;49m\u001b[38;5;124;43m'\u001b[39;49m\u001b[43m,\u001b[49m\u001b[43m \u001b[49m\u001b[38;5;124;43m'\u001b[39;49m\u001b[38;5;124;43m03\u001b[39;49m\u001b[38;5;124;43m'\u001b[39;49m\u001b[43m,\u001b[49m\n\u001b[1;32m     35\u001b[0m \u001b[43m            \u001b[49m\u001b[38;5;124;43m'\u001b[39;49m\u001b[38;5;124;43m04\u001b[39;49m\u001b[38;5;124;43m'\u001b[39;49m\u001b[43m,\u001b[49m\u001b[43m \u001b[49m\u001b[38;5;124;43m'\u001b[39;49m\u001b[38;5;124;43m05\u001b[39;49m\u001b[38;5;124;43m'\u001b[39;49m\u001b[43m,\u001b[49m\u001b[43m \u001b[49m\u001b[38;5;124;43m'\u001b[39;49m\u001b[38;5;124;43m06\u001b[39;49m\u001b[38;5;124;43m'\u001b[39;49m\u001b[43m,\u001b[49m\n\u001b[1;32m     36\u001b[0m \u001b[43m            \u001b[49m\u001b[38;5;124;43m'\u001b[39;49m\u001b[38;5;124;43m07\u001b[39;49m\u001b[38;5;124;43m'\u001b[39;49m\u001b[43m,\u001b[49m\u001b[43m \u001b[49m\u001b[38;5;124;43m'\u001b[39;49m\u001b[38;5;124;43m08\u001b[39;49m\u001b[38;5;124;43m'\u001b[39;49m\u001b[43m,\u001b[49m\u001b[43m \u001b[49m\u001b[38;5;124;43m'\u001b[39;49m\u001b[38;5;124;43m09\u001b[39;49m\u001b[38;5;124;43m'\u001b[39;49m\u001b[43m,\u001b[49m\n\u001b[1;32m     37\u001b[0m \u001b[43m            \u001b[49m\u001b[38;5;124;43m'\u001b[39;49m\u001b[38;5;124;43m10\u001b[39;49m\u001b[38;5;124;43m'\u001b[39;49m\u001b[43m,\u001b[49m\u001b[43m \u001b[49m\u001b[38;5;124;43m'\u001b[39;49m\u001b[38;5;124;43m11\u001b[39;49m\u001b[38;5;124;43m'\u001b[39;49m\u001b[43m,\u001b[49m\u001b[43m \u001b[49m\u001b[38;5;124;43m'\u001b[39;49m\u001b[38;5;124;43m12\u001b[39;49m\u001b[38;5;124;43m'\u001b[39;49m\u001b[43m,\u001b[49m\n\u001b[1;32m     38\u001b[0m \u001b[43m            \u001b[49m\u001b[38;5;124;43m'\u001b[39;49m\u001b[38;5;124;43m13\u001b[39;49m\u001b[38;5;124;43m'\u001b[39;49m\u001b[43m,\u001b[49m\u001b[43m \u001b[49m\u001b[38;5;124;43m'\u001b[39;49m\u001b[38;5;124;43m14\u001b[39;49m\u001b[38;5;124;43m'\u001b[39;49m\u001b[43m,\u001b[49m\u001b[43m \u001b[49m\u001b[38;5;124;43m'\u001b[39;49m\u001b[38;5;124;43m15\u001b[39;49m\u001b[38;5;124;43m'\u001b[39;49m\u001b[43m,\u001b[49m\n\u001b[1;32m     39\u001b[0m \u001b[43m            \u001b[49m\u001b[38;5;124;43m'\u001b[39;49m\u001b[38;5;124;43m16\u001b[39;49m\u001b[38;5;124;43m'\u001b[39;49m\u001b[43m,\u001b[49m\u001b[43m \u001b[49m\u001b[38;5;124;43m'\u001b[39;49m\u001b[38;5;124;43m17\u001b[39;49m\u001b[38;5;124;43m'\u001b[39;49m\u001b[43m,\u001b[49m\u001b[43m \u001b[49m\u001b[38;5;124;43m'\u001b[39;49m\u001b[38;5;124;43m18\u001b[39;49m\u001b[38;5;124;43m'\u001b[39;49m\u001b[43m,\u001b[49m\n\u001b[1;32m     40\u001b[0m \u001b[43m            \u001b[49m\u001b[38;5;124;43m'\u001b[39;49m\u001b[38;5;124;43m19\u001b[39;49m\u001b[38;5;124;43m'\u001b[39;49m\u001b[43m,\u001b[49m\u001b[43m \u001b[49m\u001b[38;5;124;43m'\u001b[39;49m\u001b[38;5;124;43m20\u001b[39;49m\u001b[38;5;124;43m'\u001b[39;49m\u001b[43m,\u001b[49m\u001b[43m \u001b[49m\u001b[38;5;124;43m'\u001b[39;49m\u001b[38;5;124;43m21\u001b[39;49m\u001b[38;5;124;43m'\u001b[39;49m\u001b[43m,\u001b[49m\n\u001b[1;32m     41\u001b[0m \u001b[43m            \u001b[49m\u001b[38;5;124;43m'\u001b[39;49m\u001b[38;5;124;43m22\u001b[39;49m\u001b[38;5;124;43m'\u001b[39;49m\u001b[43m,\u001b[49m\u001b[43m \u001b[49m\u001b[38;5;124;43m'\u001b[39;49m\u001b[38;5;124;43m23\u001b[39;49m\u001b[38;5;124;43m'\u001b[39;49m\u001b[43m,\u001b[49m\u001b[43m \u001b[49m\u001b[38;5;124;43m'\u001b[39;49m\u001b[38;5;124;43m24\u001b[39;49m\u001b[38;5;124;43m'\u001b[39;49m\u001b[43m,\u001b[49m\n\u001b[1;32m     42\u001b[0m \u001b[43m            \u001b[49m\u001b[38;5;124;43m'\u001b[39;49m\u001b[38;5;124;43m25\u001b[39;49m\u001b[38;5;124;43m'\u001b[39;49m\u001b[43m,\u001b[49m\u001b[43m \u001b[49m\u001b[38;5;124;43m'\u001b[39;49m\u001b[38;5;124;43m26\u001b[39;49m\u001b[38;5;124;43m'\u001b[39;49m\u001b[43m,\u001b[49m\u001b[43m \u001b[49m\u001b[38;5;124;43m'\u001b[39;49m\u001b[38;5;124;43m27\u001b[39;49m\u001b[38;5;124;43m'\u001b[39;49m\u001b[43m,\u001b[49m\n\u001b[1;32m     43\u001b[0m \u001b[43m            \u001b[49m\u001b[38;5;124;43m'\u001b[39;49m\u001b[38;5;124;43m28\u001b[39;49m\u001b[38;5;124;43m'\u001b[39;49m\u001b[43m,\u001b[49m\u001b[43m \u001b[49m\u001b[38;5;124;43m'\u001b[39;49m\u001b[38;5;124;43m29\u001b[39;49m\u001b[38;5;124;43m'\u001b[39;49m\u001b[43m,\u001b[49m\u001b[43m \u001b[49m\u001b[38;5;124;43m'\u001b[39;49m\u001b[38;5;124;43m30\u001b[39;49m\u001b[38;5;124;43m'\u001b[39;49m\u001b[43m,\u001b[49m\n\u001b[1;32m     44\u001b[0m \u001b[43m            \u001b[49m\u001b[38;5;124;43m'\u001b[39;49m\u001b[38;5;124;43m31\u001b[39;49m\u001b[38;5;124;43m'\u001b[39;49m\u001b[43m,\u001b[49m\n\u001b[1;32m     45\u001b[0m \u001b[43m            \u001b[49m\u001b[43m]\u001b[49m\u001b[43m,\u001b[49m\n\u001b[1;32m     46\u001b[0m \u001b[43m            \u001b[49m\u001b[38;5;124;43m'\u001b[39;49m\u001b[38;5;124;43mformat\u001b[39;49m\u001b[38;5;124;43m'\u001b[39;49m\u001b[43m:\u001b[49m\u001b[43m \u001b[49m\u001b[38;5;124;43m'\u001b[39;49m\u001b[38;5;124;43mgrib2\u001b[39;49m\u001b[38;5;124;43m'\u001b[39;49m\u001b[43m,\u001b[49m\u001b[43m \u001b[49m\n\u001b[1;32m     47\u001b[0m \u001b[43m            \u001b[49m\u001b[38;5;124;43m'\u001b[39;49m\u001b[38;5;124;43marea\u001b[39;49m\u001b[38;5;124;43m'\u001b[39;49m\u001b[43m:\u001b[49m\u001b[43m \u001b[49m\u001b[43mroi\u001b[49m\u001b[43m,\u001b[49m\u001b[43m \u001b[49m\n\u001b[1;32m     48\u001b[0m \u001b[43m        \u001b[49m\u001b[43m}\u001b[49m\u001b[43m,\u001b[49m\n\u001b[1;32m     49\u001b[0m \u001b[43m        \u001b[49m\u001b[43mdownload_name\u001b[49m\u001b[43m)\u001b[49m\n",
      "File \u001b[0;32m~/.local/lib/python3.8/site-packages/datapi/legacy_api_client.py:169\u001b[0m, in \u001b[0;36mLegacyApiClient.retrieve\u001b[0;34m(self, name, request, target)\u001b[0m\n\u001b[1;32m    167\u001b[0m submitted: Remote \u001b[38;5;241m|\u001b[39m Results\n\u001b[1;32m    168\u001b[0m \u001b[38;5;28;01mif\u001b[39;00m \u001b[38;5;28mself\u001b[39m\u001b[38;5;241m.\u001b[39mwait_until_complete:\n\u001b[0;32m--> 169\u001b[0m     submitted \u001b[38;5;241m=\u001b[39m \u001b[38;5;28;43mself\u001b[39;49m\u001b[38;5;241;43m.\u001b[39;49m\u001b[43mclient\u001b[49m\u001b[38;5;241;43m.\u001b[39;49m\u001b[43msubmit_and_wait_on_results\u001b[49m\u001b[43m(\u001b[49m\n\u001b[1;32m    170\u001b[0m \u001b[43m        \u001b[49m\u001b[43mcollection_id\u001b[49m\u001b[38;5;241;43m=\u001b[39;49m\u001b[43mname\u001b[49m\u001b[43m,\u001b[49m\n\u001b[1;32m    171\u001b[0m \u001b[43m        \u001b[49m\u001b[43mrequest\u001b[49m\u001b[38;5;241;43m=\u001b[39;49m\u001b[43mrequest\u001b[49m\u001b[43m,\u001b[49m\n\u001b[1;32m    172\u001b[0m \u001b[43m    \u001b[49m\u001b[43m)\u001b[49m\n\u001b[1;32m    173\u001b[0m \u001b[38;5;28;01melse\u001b[39;00m:\n\u001b[1;32m    174\u001b[0m     submitted \u001b[38;5;241m=\u001b[39m \u001b[38;5;28mself\u001b[39m\u001b[38;5;241m.\u001b[39mclient\u001b[38;5;241m.\u001b[39msubmit(\n\u001b[1;32m    175\u001b[0m         collection_id\u001b[38;5;241m=\u001b[39mname,\n\u001b[1;32m    176\u001b[0m         request\u001b[38;5;241m=\u001b[39mrequest,\n\u001b[1;32m    177\u001b[0m     )\n",
      "File \u001b[0;32m~/.local/lib/python3.8/site-packages/datapi/api_client.py:399\u001b[0m, in \u001b[0;36mApiClient.submit_and_wait_on_results\u001b[0;34m(self, collection_id, request)\u001b[0m\n\u001b[1;32m    383\u001b[0m \u001b[38;5;28;01mdef\u001b[39;00m \u001b[38;5;21msubmit_and_wait_on_results\u001b[39m(\n\u001b[1;32m    384\u001b[0m     \u001b[38;5;28mself\u001b[39m, collection_id: \u001b[38;5;28mstr\u001b[39m, request: \u001b[38;5;28mdict\u001b[39m[\u001b[38;5;28mstr\u001b[39m, Any]\n\u001b[1;32m    385\u001b[0m ) \u001b[38;5;241m-\u001b[39m\u001b[38;5;241m>\u001b[39m datapi\u001b[38;5;241m.\u001b[39mResults:\n\u001b[1;32m    386\u001b[0m \u001b[38;5;250m    \u001b[39m\u001b[38;5;124;03m\"\"\"Submit a request and wait for the results to be ready.\u001b[39;00m\n\u001b[1;32m    387\u001b[0m \n\u001b[1;32m    388\u001b[0m \u001b[38;5;124;03m    Parameters\u001b[39;00m\n\u001b[0;32m   (...)\u001b[0m\n\u001b[1;32m    397\u001b[0m \u001b[38;5;124;03m    datapi.Results\u001b[39;00m\n\u001b[1;32m    398\u001b[0m \u001b[38;5;124;03m    \"\"\"\u001b[39;00m\n\u001b[0;32m--> 399\u001b[0m     \u001b[38;5;28;01mreturn\u001b[39;00m \u001b[38;5;28;43mself\u001b[39;49m\u001b[38;5;241;43m.\u001b[39;49m\u001b[43m_retrieve_api\u001b[49m\u001b[38;5;241;43m.\u001b[39;49m\u001b[43msubmit\u001b[49m\u001b[43m(\u001b[49m\u001b[43mcollection_id\u001b[49m\u001b[43m,\u001b[49m\u001b[43m \u001b[49m\u001b[43mrequest\u001b[49m\u001b[43m)\u001b[49m\u001b[38;5;241;43m.\u001b[39;49m\u001b[43mget_results\u001b[49m\u001b[43m(\u001b[49m\u001b[43m)\u001b[49m\n",
      "File \u001b[0;32m~/.local/lib/python3.8/site-packages/datapi/processing.py:545\u001b[0m, in \u001b[0;36mRemote.get_results\u001b[0;34m(self)\u001b[0m\n\u001b[1;32m    538\u001b[0m \u001b[38;5;28;01mdef\u001b[39;00m \u001b[38;5;21mget_results\u001b[39m(\u001b[38;5;28mself\u001b[39m) \u001b[38;5;241m-\u001b[39m\u001b[38;5;241m>\u001b[39m Results:\n\u001b[1;32m    539\u001b[0m \u001b[38;5;250m    \u001b[39m\u001b[38;5;124;03m\"\"\"Retrieve results.\u001b[39;00m\n\u001b[1;32m    540\u001b[0m \n\u001b[1;32m    541\u001b[0m \u001b[38;5;124;03m    Returns\u001b[39;00m\n\u001b[1;32m    542\u001b[0m \u001b[38;5;124;03m    -------\u001b[39;00m\n\u001b[1;32m    543\u001b[0m \u001b[38;5;124;03m    datapi.Results\u001b[39;00m\n\u001b[1;32m    544\u001b[0m \u001b[38;5;124;03m    \"\"\"\u001b[39;00m\n\u001b[0;32m--> 545\u001b[0m     \u001b[38;5;28;01mreturn\u001b[39;00m \u001b[38;5;28;43mself\u001b[39;49m\u001b[38;5;241;43m.\u001b[39;49m\u001b[43m_make_results\u001b[49m\u001b[43m(\u001b[49m\u001b[43mwait\u001b[49m\u001b[38;5;241;43m=\u001b[39;49m\u001b[38;5;28;43;01mTrue\u001b[39;49;00m\u001b[43m)\u001b[49m\n",
      "File \u001b[0;32m~/.local/lib/python3.8/site-packages/datapi/processing.py:520\u001b[0m, in \u001b[0;36mRemote._make_results\u001b[0;34m(self, wait)\u001b[0m\n\u001b[1;32m    518\u001b[0m \u001b[38;5;28;01mdef\u001b[39;00m \u001b[38;5;21m_make_results\u001b[39m(\u001b[38;5;28mself\u001b[39m, wait: \u001b[38;5;28mbool\u001b[39m) \u001b[38;5;241m-\u001b[39m\u001b[38;5;241m>\u001b[39m Results:\n\u001b[1;32m    519\u001b[0m     \u001b[38;5;28;01mif\u001b[39;00m wait:\n\u001b[0;32m--> 520\u001b[0m         \u001b[38;5;28;43mself\u001b[39;49m\u001b[38;5;241;43m.\u001b[39;49m\u001b[43m_wait_on_results\u001b[49m\u001b[43m(\u001b[49m\u001b[43m)\u001b[49m\n\u001b[1;32m    521\u001b[0m     response \u001b[38;5;241m=\u001b[39m \u001b[38;5;28mself\u001b[39m\u001b[38;5;241m.\u001b[39m_get_api_response(\u001b[38;5;124m\"\u001b[39m\u001b[38;5;124mget\u001b[39m\u001b[38;5;124m\"\u001b[39m)\n\u001b[1;32m    522\u001b[0m     \u001b[38;5;28;01mtry\u001b[39;00m:\n",
      "File \u001b[0;32m~/.local/lib/python3.8/site-packages/datapi/processing.py:500\u001b[0m, in \u001b[0;36mRemote._wait_on_results\u001b[0;34m(self)\u001b[0m\n\u001b[1;32m    498\u001b[0m \u001b[38;5;28;01mwhile\u001b[39;00m \u001b[38;5;129;01mnot\u001b[39;00m \u001b[38;5;28mself\u001b[39m\u001b[38;5;241m.\u001b[39mresults_ready:\n\u001b[1;32m    499\u001b[0m     \u001b[38;5;28mself\u001b[39m\u001b[38;5;241m.\u001b[39mdebug(\u001b[38;5;124mf\u001b[39m\u001b[38;5;124m\"\u001b[39m\u001b[38;5;124mresults not ready, waiting for \u001b[39m\u001b[38;5;132;01m{\u001b[39;00msleep\u001b[38;5;132;01m}\u001b[39;00m\u001b[38;5;124m seconds\u001b[39m\u001b[38;5;124m\"\u001b[39m)\n\u001b[0;32m--> 500\u001b[0m     \u001b[43mtime\u001b[49m\u001b[38;5;241;43m.\u001b[39;49m\u001b[43msleep\u001b[49m\u001b[43m(\u001b[49m\u001b[43msleep\u001b[49m\u001b[43m)\u001b[49m\n\u001b[1;32m    501\u001b[0m     sleep \u001b[38;5;241m=\u001b[39m \u001b[38;5;28mmin\u001b[39m(sleep \u001b[38;5;241m*\u001b[39m \u001b[38;5;241m1.5\u001b[39m, \u001b[38;5;28mself\u001b[39m\u001b[38;5;241m.\u001b[39msleep_max)\n",
      "\u001b[0;31mKeyboardInterrupt\u001b[0m: "
     ]
    }
   ],
   "source": [
    "for i in range(len(points_gdf)):\n",
    "    point = points_gdf.geometry.iloc[i]\n",
    "    index = points_gdf.index[i]\n",
    "    lon, lat = point.x, point.y\n",
    "    \n",
    "    lon_floor = np.floor(lon)\n",
    "    lon_ceil = np.ceil(lon)\n",
    "    lat_floor = np.floor(lat)\n",
    "    lat_ceil = np.ceil(lat)\n",
    "    # roi = [lon_floor, lat_floor, lon_ceil, lat_ceil]\n",
    "    roi = [lat_ceil, lon_floor, lat_floor, lon_ceil] # North, West, South, East\n",
    "    \n",
    "    out_name = './outlet_discharge/' + str(i) + '_'# + '.grib2'\n",
    "    get_glofas_for_point(roi, out_name)\n",
    "    \n",
    "    print(roi)\n",
    "    print(i)"
   ]
  },
  {
   "cell_type": "code",
   "execution_count": null,
   "id": "b29671d1-e927-46d2-8ffc-3a5f75e817b3",
   "metadata": {},
   "outputs": [],
   "source": []
  },
  {
   "cell_type": "markdown",
   "id": "2847880d-a90a-41c6-a408-94580594f96b",
   "metadata": {},
   "source": [
    "## Merge results"
   ]
  },
  {
   "cell_type": "code",
   "execution_count": null,
   "id": "d7395262-e503-45aa-9e28-d6abac8362dd",
   "metadata": {},
   "outputs": [],
   "source": []
  }
 ],
 "metadata": {
  "kernelspec": {
   "display_name": "egu2024-intel72",
   "language": "python",
   "name": "egu2024-intel72"
  },
  "language_info": {
   "codemirror_mode": {
    "name": "ipython",
    "version": 3
   },
   "file_extension": ".py",
   "mimetype": "text/x-python",
   "name": "python",
   "nbconvert_exporter": "python",
   "pygments_lexer": "ipython3",
   "version": "3.8.10"
  }
 },
 "nbformat": 4,
 "nbformat_minor": 5
}
