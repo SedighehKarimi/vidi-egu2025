{
 "cells": [
  {
   "cell_type": "markdown",
   "id": "4cd3ba49-c3a5-40c1-86ee-f962d99a7bad",
   "metadata": {
    "tags": [],
    "user_expressions": []
   },
   "source": [
    "![Vidi_Waterflux_Banner](https://raw.githubusercontent.com/ITC-Water-Resources/Vidi-waterflux-merch/refs/heads/main/jupyter/Vidi_Waterflux_Banner.png)\n",
    "*Roelof Rietbroek, Sedigheh Karimi, Amin Shakya EGU 2025*"
   ]
  },
  {
   "cell_type": "markdown",
   "id": "617e78c3-f0b6-4d71-bd8d-601a1a237e7c",
   "metadata": {},
   "source": [
    "In this notebook, we first:\n",
    "1. Download GLOFAS data for NSR and HOA from CDSAPI\n",
    "2. Merge the downloaded notebooks into a netcdf"
   ]
  },
  {
   "cell_type": "markdown",
   "id": "25bae59e-f8f9-43fa-b825-3c824cb4f412",
   "metadata": {},
   "source": [
    "# 1. Download GLOFAS data from CDSAPI"
   ]
  },
  {
   "cell_type": "markdown",
   "id": "bec59a99-ff68-4e05-a786-048d68f8d9c9",
   "metadata": {},
   "source": [
    "## 01. Download for the North Sea Region"
   ]
  },
  {
   "cell_type": "code",
   "execution_count": null,
   "id": "d0de05be-0512-44af-aef5-0bee360cb07b",
   "metadata": {},
   "outputs": [],
   "source": [
    "import cdsapi\n",
    "\n",
    "c = cdsapi.Client()\n",
    "\n",
    "\n",
    "north_sea_region = [-5.0, 45.5, 15.5, 63.5,]\n",
    "start_year = 1979 #1990\n",
    "end_year = 2025 + 1 #2023\n",
    "for i in range(start_year,end_year):\n",
    "    download_name = './glofas4_data_nsr/glofas4_nsr_' + str(i) + '.grib2'\n",
    "    c.retrieve(\n",
    "        'cems-glofas-historical',\n",
    "        {\n",
    "            'system_version': 'version_4_0',\n",
    "            'hydrological_model': 'lisflood',\n",
    "            'product_type': 'consolidated',\n",
    "            'variable': 'river_discharge_in_the_last_24_hours',\n",
    "            'hyear': str(i),\n",
    "            \"hmonth\": [\n",
    "                        \"01\",\n",
    "                        \"02\",\n",
    "                        \"03\",\n",
    "                        \"04\",\n",
    "                        \"05\",\n",
    "                        \"06\",\n",
    "                        \"07\",\n",
    "                        \"08\",\n",
    "                        \"09\",\n",
    "                        \"10\",\n",
    "                        \"11\",\n",
    "                        \"12\"\n",
    "                    ],\n",
    "            'hday': [\n",
    "            '01', '02', '03',\n",
    "            '04', '05', '06',\n",
    "            '07', '08', '09',\n",
    "            '10', '11', '12',\n",
    "            '13', '14', '15',\n",
    "            '16', '17', '18',\n",
    "            '19', '20', '21',\n",
    "            '22', '23', '24',\n",
    "            '25', '26', '27',\n",
    "            '28', '29', '30',\n",
    "            '31',\n",
    "            ],\n",
    "            'format': 'grib2', \n",
    "            'area': north_sea_region, \n",
    "        },\n",
    "        download_name) #Rename appropriately"
   ]
  },
  {
   "cell_type": "markdown",
   "id": "7f85565b-4cc8-4dc4-b354-8baba6190dce",
   "metadata": {},
   "source": [
    "## 02. Download for the Horn of Africa Region"
   ]
  },
  {
   "cell_type": "code",
   "execution_count": null,
   "id": "56d412c2-eae6-4f26-b59c-472a2751fc97",
   "metadata": {},
   "outputs": [],
   "source": [
    "import cdsapi\n",
    "\n",
    "c = cdsapi.Client()\n",
    "\n",
    "\n",
    "# north_sea_region = [-5.0, 45.5, 15.5, 63.5,]\n",
    "hoa = [7.0, -20.5, 60.5, 31.5,]\n",
    "start_year = 1979 #1990\n",
    "end_year = 2025 + 1 #2023\n",
    "for i in range(start_year,end_year):\n",
    "    download_name = './glofas4_data_hoa/glofas4_hoa_' + str(i) + '.grib2'\n",
    "    c.retrieve(\n",
    "        'cems-glofas-historical',\n",
    "        {\n",
    "            'system_version': 'version_4_0',\n",
    "            'hydrological_model': 'lisflood',\n",
    "            'product_type': 'consolidated',\n",
    "            'variable': 'river_discharge_in_the_last_24_hours',\n",
    "            'hyear': str(i),\n",
    "            \"hmonth\": [\n",
    "                        \"01\",\n",
    "                        \"02\",\n",
    "                        \"03\",\n",
    "                        \"04\",\n",
    "                        \"05\",\n",
    "                        \"06\",\n",
    "                        \"07\",\n",
    "                        \"08\",\n",
    "                        \"09\",\n",
    "                        \"10\",\n",
    "                        \"11\",\n",
    "                        \"12\"\n",
    "                    ],\n",
    "            'hday': [\n",
    "            '01', '02', '03',\n",
    "            '04', '05', '06',\n",
    "            '07', '08', '09',\n",
    "            '10', '11', '12',\n",
    "            '13', '14', '15',\n",
    "            '16', '17', '18',\n",
    "            '19', '20', '21',\n",
    "            '22', '23', '24',\n",
    "            '25', '26', '27',\n",
    "            '28', '29', '30',\n",
    "            '31',\n",
    "            ],\n",
    "            'format': 'grib2', \n",
    "            'area': hoa, \n",
    "        },\n",
    "        download_name) #Rename appropriately"
   ]
  },
  {
   "cell_type": "markdown",
   "id": "4d57ed3f-bab4-4af8-83a3-5349520c2342",
   "metadata": {},
   "source": [
    "# 2. Merge GLOFAS data"
   ]
  },
  {
   "cell_type": "code",
   "execution_count": 1,
   "id": "d804b141-2c76-4d21-a46c-415476e7974e",
   "metadata": {},
   "outputs": [],
   "source": [
    "import xarray as xr\n",
    "import cfgrib\n",
    "import os"
   ]
  },
  {
   "cell_type": "markdown",
   "id": "c9c70bf7-6ab0-4ca2-bb39-9ca59aa17126",
   "metadata": {},
   "source": [
    "## 01. Merge for North Sea Region"
   ]
  },
  {
   "cell_type": "code",
   "execution_count": null,
   "id": "349e9a4e-5b37-4088-895b-98091eadc996",
   "metadata": {},
   "outputs": [],
   "source": [
    "directory_path = \"./glofas4_data_nsr/\"\n",
    "\n",
    "# List all the .grib2 files in the specified directory\n",
    "grib_files = [os.path.join(directory_path, filename) for filename in os.listdir(directory_path) if filename.endswith(\".grib2\")]\n",
    "grib_files.sort()\n",
    "\n",
    "# Create an xarray dataset from the .grib2 files\n",
    "ds = xr.open_mfdataset(\n",
    "    grib_files,\n",
    "    engine='cfgrib',\n",
    "    combine='nested',  # Combine files by coordinates\n",
    "    concat_dim='time',\n",
    "    parallel=True,\n",
    "    # indexpath = None\n",
    ")\n",
    "\n",
    "# Save the merged dataset to a NetCDF file\n",
    "ds.to_netcdf('glofas4_nsr_1979_2025.nc')\n",
    "\n",
    "# # Close the dataset to release resources\n",
    "ds.close()"
   ]
  },
  {
   "cell_type": "markdown",
   "id": "e0f0bf67-a031-429a-8d77-0865e053f6a1",
   "metadata": {},
   "source": [
    "## 02. Merge for Horn of Africa Region"
   ]
  },
  {
   "cell_type": "code",
   "execution_count": null,
   "id": "cda67423-d703-45f8-8d4a-1cc397562e10",
   "metadata": {},
   "outputs": [],
   "source": [
    "directory_path = \"./glofas4_data_hoa/\"\n",
    "\n",
    "# List all the .grib2 files in the specified directory\n",
    "grib_files = [os.path.join(directory_path, filename) for filename in os.listdir(directory_path) if filename.endswith(\".grib2\")]\n",
    "grib_files.sort()\n",
    "\n",
    "# Create an xarray dataset from the .grib2 files\n",
    "ds = xr.open_mfdataset(\n",
    "    grib_files,\n",
    "    engine='cfgrib',\n",
    "    combine='nested',  # Combine files by coordinates\n",
    "    concat_dim='time',\n",
    "    parallel=True,\n",
    "    # indexpath = None\n",
    ")\n",
    "\n",
    "# Save the merged dataset to a NetCDF file\n",
    "ds.to_netcdf('glofas4_hoa_1979_2025.nc')\n",
    "\n",
    "# # Close the dataset to release resources\n",
    "ds.close()"
   ]
  }
 ],
 "metadata": {
  "kernelspec": {
   "display_name": "egu2024-intel72",
   "language": "python",
   "name": "egu2024-intel72"
  },
  "language_info": {
   "codemirror_mode": {
    "name": "ipython",
    "version": 3
   },
   "file_extension": ".py",
   "mimetype": "text/x-python",
   "name": "python",
   "nbconvert_exporter": "python",
   "pygments_lexer": "ipython3",
   "version": "3.8.10"
  }
 },
 "nbformat": 4,
 "nbformat_minor": 5
}
