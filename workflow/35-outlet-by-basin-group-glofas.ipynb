{
 "cells": [
  {
   "cell_type": "markdown",
   "id": "41ee9939-afa0-4dbc-bb68-6848fadddb42",
   "metadata": {},
   "source": [
    "![Vidi_Waterflux_Banner](https://raw.githubusercontent.com/ITC-Water-Resources/Vidi-waterflux-merch/refs/heads/main/jupyter/Vidi_Waterflux_Banner.png)\n",
    "*Roelof Rietbroek, Sedigheh Karimi, Amin Shakya EGU 2025*"
   ]
  },
  {
   "cell_type": "code",
   "execution_count": null,
   "id": "b2dbd532-e887-4601-8e49-c8aeb8e6c066",
   "metadata": {},
   "outputs": [],
   "source": []
  },
  {
   "cell_type": "code",
   "execution_count": 1,
   "id": "ea441402-4e4d-4256-8d9e-5033ddac4c5c",
   "metadata": {},
   "outputs": [],
   "source": [
    "import xarray as xr\n",
    "import geopandas as gpd\n",
    "import pandas as pd\n",
    "import matplotlib.pyplot as plt\n",
    "import numpy as np"
   ]
  },
  {
   "cell_type": "code",
   "execution_count": 2,
   "id": "8bb1d6eb-f9a9-4240-8492-6f772d949b76",
   "metadata": {},
   "outputs": [],
   "source": [
    "def get_glofas_for_point(roi, output_path):\n",
    "    import cdsapi\n",
    "\n",
    "    c = cdsapi.Client()\n",
    "    # north_sea_region = [-5.0, 45.5, 15.5, 63.5,]\n",
    "    # hoa = [7.0, -20.5, 60.5, 31.5,]\n",
    "    start_year = 2000 #1990\n",
    "    end_year = 2025 + 1 #2023\n",
    "    for i in range(start_year, end_year): \n",
    "        download_name = output_path + str(i) + '.grib2' #'./glofas4_data_hoa/glofas4_hoa_' + str(i) + '.grib2'\n",
    "        c.retrieve(\n",
    "            'cems-glofas-historical',\n",
    "            {\n",
    "                'system_version': 'version_4_0',\n",
    "                'hydrological_model': 'lisflood',\n",
    "                'product_type': 'consolidated',\n",
    "                'variable': 'river_discharge_in_the_last_24_hours',\n",
    "                \"hyear\": str(i),\n",
    "                \"hmonth\": [\n",
    "                            \"01\",\n",
    "                            \"02\",\n",
    "                            \"03\",\n",
    "                            \"04\",\n",
    "                            \"05\",\n",
    "                            \"06\",\n",
    "                            \"07\",\n",
    "                            \"08\",\n",
    "                            \"09\",\n",
    "                            \"10\",\n",
    "                            \"11\",\n",
    "                            \"12\"\n",
    "                        ],\n",
    "                'hday': [\n",
    "                '01', '02', '03',\n",
    "                '04', '05', '06',\n",
    "                '07', '08', '09',\n",
    "                '10', '11', '12',\n",
    "                '13', '14', '15',\n",
    "                '16', '17', '18',\n",
    "                '19', '20', '21',\n",
    "                '22', '23', '24',\n",
    "                '25', '26', '27',\n",
    "                '28', '29', '30',\n",
    "                '31',\n",
    "                ],\n",
    "                'format': 'grib2', \n",
    "                'area': roi, \n",
    "            },\n",
    "            download_name) #Rename appropriately"
   ]
  },
  {
   "cell_type": "code",
   "execution_count": 3,
   "id": "38911a89-bf7a-42cc-a44c-e8f88f6d2170",
   "metadata": {},
   "outputs": [],
   "source": [
    "points_fn = '../data/glofasv4_discharge_locations.gpkg'"
   ]
  },
  {
   "cell_type": "code",
   "execution_count": 4,
   "id": "4c677b51-66b1-467c-810c-035ef6eff8cf",
   "metadata": {},
   "outputs": [
    {
     "data": {
      "text/html": [
       "<div>\n",
       "<style scoped>\n",
       "    .dataframe tbody tr th:only-of-type {\n",
       "        vertical-align: middle;\n",
       "    }\n",
       "\n",
       "    .dataframe tbody tr th {\n",
       "        vertical-align: top;\n",
       "    }\n",
       "\n",
       "    .dataframe thead th {\n",
       "        text-align: right;\n",
       "    }\n",
       "</style>\n",
       "<table border=\"1\" class=\"dataframe\">\n",
       "  <thead>\n",
       "    <tr style=\"text-align: right;\">\n",
       "      <th></th>\n",
       "      <th>name</th>\n",
       "      <th>endo</th>\n",
       "      <th>x</th>\n",
       "      <th>y</th>\n",
       "      <th>upstream_area</th>\n",
       "      <th>geometry</th>\n",
       "    </tr>\n",
       "  </thead>\n",
       "  <tbody>\n",
       "    <tr>\n",
       "      <th>0</th>\n",
       "      <td>SETIT</td>\n",
       "      <td>0</td>\n",
       "      <td>4358</td>\n",
       "      <td>1429</td>\n",
       "      <td>6.373512e+10</td>\n",
       "      <td>POINT (37.87500 18.57500)</td>\n",
       "    </tr>\n",
       "    <tr>\n",
       "      <th>1</th>\n",
       "      <td>SETIT</td>\n",
       "      <td>0</td>\n",
       "      <td>4357</td>\n",
       "      <td>1429</td>\n",
       "      <td>6.367669e+10</td>\n",
       "      <td>POINT (37.82500 18.57500)</td>\n",
       "    </tr>\n",
       "    <tr>\n",
       "      <th>2</th>\n",
       "      <td>SETIT</td>\n",
       "      <td>0</td>\n",
       "      <td>4356</td>\n",
       "      <td>1429</td>\n",
       "      <td>6.364749e+10</td>\n",
       "      <td>POINT (37.77500 18.57500)</td>\n",
       "    </tr>\n",
       "    <tr>\n",
       "      <th>3</th>\n",
       "      <td>SETIT</td>\n",
       "      <td>0</td>\n",
       "      <td>4356</td>\n",
       "      <td>1430</td>\n",
       "      <td>6.347212e+10</td>\n",
       "      <td>POINT (37.77500 18.52500)</td>\n",
       "    </tr>\n",
       "    <tr>\n",
       "      <th>4</th>\n",
       "      <td>GULF OF ADEN/SOMALIA</td>\n",
       "      <td>0</td>\n",
       "      <td>4573</td>\n",
       "      <td>1672</td>\n",
       "      <td>1.184632e+11</td>\n",
       "      <td>POINT (48.62500 6.42500)</td>\n",
       "    </tr>\n",
       "    <tr>\n",
       "      <th>...</th>\n",
       "      <td>...</td>\n",
       "      <td>...</td>\n",
       "      <td>...</td>\n",
       "      <td>...</td>\n",
       "      <td>...</td>\n",
       "      <td>...</td>\n",
       "    </tr>\n",
       "    <tr>\n",
       "      <th>479</th>\n",
       "      <td>GOBI DESERT</td>\n",
       "      <td>2</td>\n",
       "      <td>5612</td>\n",
       "      <td>953</td>\n",
       "      <td>7.298325e+10</td>\n",
       "      <td>POINT (100.57500 42.37500)</td>\n",
       "    </tr>\n",
       "    <tr>\n",
       "      <th>480</th>\n",
       "      <td>TIBETAN PLATEAU</td>\n",
       "      <td>2</td>\n",
       "      <td>5382</td>\n",
       "      <td>1169</td>\n",
       "      <td>4.499326e+10</td>\n",
       "      <td>POINT (89.07500 31.57500)</td>\n",
       "    </tr>\n",
       "    <tr>\n",
       "      <th>481</th>\n",
       "      <td>TIBETAN PLATEAU</td>\n",
       "      <td>2</td>\n",
       "      <td>5383</td>\n",
       "      <td>1168</td>\n",
       "      <td>4.351758e+10</td>\n",
       "      <td>POINT (89.12500 31.62500)</td>\n",
       "    </tr>\n",
       "    <tr>\n",
       "      <th>482</th>\n",
       "      <td>TIBETAN PLATEAU</td>\n",
       "      <td>2</td>\n",
       "      <td>5383</td>\n",
       "      <td>1167</td>\n",
       "      <td>4.349128e+10</td>\n",
       "      <td>POINT (89.12500 31.67500)</td>\n",
       "    </tr>\n",
       "    <tr>\n",
       "      <th>483</th>\n",
       "      <td>TIBETAN PLATEAU</td>\n",
       "      <td>2</td>\n",
       "      <td>5383</td>\n",
       "      <td>1166</td>\n",
       "      <td>4.320208e+10</td>\n",
       "      <td>POINT (89.12500 31.72500)</td>\n",
       "    </tr>\n",
       "  </tbody>\n",
       "</table>\n",
       "<p>484 rows × 6 columns</p>\n",
       "</div>"
      ],
      "text/plain": [
       "                     name  endo     x     y  upstream_area  \\\n",
       "0                   SETIT     0  4358  1429   6.373512e+10   \n",
       "1                   SETIT     0  4357  1429   6.367669e+10   \n",
       "2                   SETIT     0  4356  1429   6.364749e+10   \n",
       "3                   SETIT     0  4356  1430   6.347212e+10   \n",
       "4    GULF OF ADEN/SOMALIA     0  4573  1672   1.184632e+11   \n",
       "..                    ...   ...   ...   ...            ...   \n",
       "479           GOBI DESERT     2  5612   953   7.298325e+10   \n",
       "480       TIBETAN PLATEAU     2  5382  1169   4.499326e+10   \n",
       "481       TIBETAN PLATEAU     2  5383  1168   4.351758e+10   \n",
       "482       TIBETAN PLATEAU     2  5383  1167   4.349128e+10   \n",
       "483       TIBETAN PLATEAU     2  5383  1166   4.320208e+10   \n",
       "\n",
       "                       geometry  \n",
       "0     POINT (37.87500 18.57500)  \n",
       "1     POINT (37.82500 18.57500)  \n",
       "2     POINT (37.77500 18.57500)  \n",
       "3     POINT (37.77500 18.52500)  \n",
       "4      POINT (48.62500 6.42500)  \n",
       "..                          ...  \n",
       "479  POINT (100.57500 42.37500)  \n",
       "480   POINT (89.07500 31.57500)  \n",
       "481   POINT (89.12500 31.62500)  \n",
       "482   POINT (89.12500 31.67500)  \n",
       "483   POINT (89.12500 31.72500)  \n",
       "\n",
       "[484 rows x 6 columns]"
      ]
     },
     "execution_count": 4,
     "metadata": {},
     "output_type": "execute_result"
    }
   ],
   "source": [
    "points_gdf = gpd.read_file(points_fn)\n",
    "points_gdf"
   ]
  },
  {
   "cell_type": "code",
   "execution_count": 15,
   "id": "21d6a908-4fd6-4491-bbb6-eea61a370648",
   "metadata": {},
   "outputs": [
    {
     "data": {
      "text/html": [
       "<div>\n",
       "<style scoped>\n",
       "    .dataframe tbody tr th:only-of-type {\n",
       "        vertical-align: middle;\n",
       "    }\n",
       "\n",
       "    .dataframe tbody tr th {\n",
       "        vertical-align: top;\n",
       "    }\n",
       "\n",
       "    .dataframe thead th {\n",
       "        text-align: right;\n",
       "    }\n",
       "</style>\n",
       "<table border=\"1\" class=\"dataframe\">\n",
       "  <thead>\n",
       "    <tr style=\"text-align: right;\">\n",
       "      <th></th>\n",
       "      <th>geometry</th>\n",
       "      <th>endo</th>\n",
       "      <th>x</th>\n",
       "      <th>y</th>\n",
       "      <th>upstream_area</th>\n",
       "    </tr>\n",
       "    <tr>\n",
       "      <th>name</th>\n",
       "      <th></th>\n",
       "      <th></th>\n",
       "      <th></th>\n",
       "      <th></th>\n",
       "      <th></th>\n",
       "    </tr>\n",
       "  </thead>\n",
       "  <tbody>\n",
       "    <tr>\n",
       "      <th>AMAZONAS</th>\n",
       "      <td>MULTIPOINT (-51.02500 -0.62500, -50.97500 -0.5...</td>\n",
       "      <td>0</td>\n",
       "      <td>2583</td>\n",
       "      <td>1811</td>\n",
       "      <td>5.892086e+12</td>\n",
       "    </tr>\n",
       "    <tr>\n",
       "      <th>AMUR</th>\n",
       "      <td>MULTIPOINT (140.72500 53.12500, 140.82500 53.1...</td>\n",
       "      <td>0</td>\n",
       "      <td>6419</td>\n",
       "      <td>739</td>\n",
       "      <td>1.991504e+12</td>\n",
       "    </tr>\n",
       "    <tr>\n",
       "      <th>ANGERMAN</th>\n",
       "      <td>MULTIPOINT (11.82500 57.67500, 11.87500 57.675...</td>\n",
       "      <td>0</td>\n",
       "      <td>3837</td>\n",
       "      <td>647</td>\n",
       "      <td>5.119166e+10</td>\n",
       "    </tr>\n",
       "    <tr>\n",
       "      <th>ARCTIC OCEAN SEVERNY ISLAND</th>\n",
       "      <td>MULTIPOINT (55.57500 71.52500, 55.62500 71.525...</td>\n",
       "      <td>0</td>\n",
       "      <td>4715</td>\n",
       "      <td>369</td>\n",
       "      <td>2.108406e+09</td>\n",
       "    </tr>\n",
       "    <tr>\n",
       "      <th>BACK RIVER</th>\n",
       "      <td>MULTIPOINT (-93.97500 64.02500, -93.92500 64.0...</td>\n",
       "      <td>0</td>\n",
       "      <td>1724</td>\n",
       "      <td>520</td>\n",
       "      <td>2.400910e+11</td>\n",
       "    </tr>\n",
       "    <tr>\n",
       "      <th>...</th>\n",
       "      <td>...</td>\n",
       "      <td>...</td>\n",
       "      <td>...</td>\n",
       "      <td>...</td>\n",
       "      <td>...</td>\n",
       "    </tr>\n",
       "    <tr>\n",
       "      <th>WESTERN ARABIAN DESERT</th>\n",
       "      <td>MULTIPOINT (36.72500 25.97500, 36.77500 25.925...</td>\n",
       "      <td>0</td>\n",
       "      <td>4335</td>\n",
       "      <td>1281</td>\n",
       "      <td>1.036502e+11</td>\n",
       "    </tr>\n",
       "    <tr>\n",
       "      <th>YANGTZE RIVER (CHANG JIANG)</th>\n",
       "      <td>MULTIPOINT (120.47500 32.02500, 120.57500 32.0...</td>\n",
       "      <td>0</td>\n",
       "      <td>6016</td>\n",
       "      <td>1160</td>\n",
       "      <td>1.913028e+12</td>\n",
       "    </tr>\n",
       "    <tr>\n",
       "      <th>YENISEI</th>\n",
       "      <td>MULTIPOINT (83.37500 70.57500, 83.42500 70.575...</td>\n",
       "      <td>0</td>\n",
       "      <td>5270</td>\n",
       "      <td>388</td>\n",
       "      <td>2.549257e+12</td>\n",
       "    </tr>\n",
       "    <tr>\n",
       "      <th>YUKON RIVER</th>\n",
       "      <td>MULTIPOINT (-164.62500 63.02500, -164.57500 63...</td>\n",
       "      <td>0</td>\n",
       "      <td>308</td>\n",
       "      <td>540</td>\n",
       "      <td>8.366674e+11</td>\n",
       "    </tr>\n",
       "    <tr>\n",
       "      <th>ZAMBEZI</th>\n",
       "      <td>MULTIPOINT (36.12500 -18.52500, 36.17500 -18.5...</td>\n",
       "      <td>0</td>\n",
       "      <td>4326</td>\n",
       "      <td>2173</td>\n",
       "      <td>1.369935e+12</td>\n",
       "    </tr>\n",
       "  </tbody>\n",
       "</table>\n",
       "<p>121 rows × 5 columns</p>\n",
       "</div>"
      ],
      "text/plain": [
       "                                                                      geometry  \\\n",
       "name                                                                             \n",
       "AMAZONAS                     MULTIPOINT (-51.02500 -0.62500, -50.97500 -0.5...   \n",
       "AMUR                         MULTIPOINT (140.72500 53.12500, 140.82500 53.1...   \n",
       "ANGERMAN                     MULTIPOINT (11.82500 57.67500, 11.87500 57.675...   \n",
       "ARCTIC OCEAN SEVERNY ISLAND  MULTIPOINT (55.57500 71.52500, 55.62500 71.525...   \n",
       "BACK RIVER                   MULTIPOINT (-93.97500 64.02500, -93.92500 64.0...   \n",
       "...                                                                        ...   \n",
       "WESTERN ARABIAN DESERT       MULTIPOINT (36.72500 25.97500, 36.77500 25.925...   \n",
       "YANGTZE RIVER (CHANG JIANG)  MULTIPOINT (120.47500 32.02500, 120.57500 32.0...   \n",
       "YENISEI                      MULTIPOINT (83.37500 70.57500, 83.42500 70.575...   \n",
       "YUKON RIVER                  MULTIPOINT (-164.62500 63.02500, -164.57500 63...   \n",
       "ZAMBEZI                      MULTIPOINT (36.12500 -18.52500, 36.17500 -18.5...   \n",
       "\n",
       "                             endo     x     y  upstream_area  \n",
       "name                                                          \n",
       "AMAZONAS                        0  2583  1811   5.892086e+12  \n",
       "AMUR                            0  6419   739   1.991504e+12  \n",
       "ANGERMAN                        0  3837   647   5.119166e+10  \n",
       "ARCTIC OCEAN SEVERNY ISLAND     0  4715   369   2.108406e+09  \n",
       "BACK RIVER                      0  1724   520   2.400910e+11  \n",
       "...                           ...   ...   ...            ...  \n",
       "WESTERN ARABIAN DESERT          0  4335  1281   1.036502e+11  \n",
       "YANGTZE RIVER (CHANG JIANG)     0  6016  1160   1.913028e+12  \n",
       "YENISEI                         0  5270   388   2.549257e+12  \n",
       "YUKON RIVER                     0   308   540   8.366674e+11  \n",
       "ZAMBEZI                         0  4326  2173   1.369935e+12  \n",
       "\n",
       "[121 rows x 5 columns]"
      ]
     },
     "execution_count": 15,
     "metadata": {},
     "output_type": "execute_result"
    }
   ],
   "source": [
    "basins_gdf = points_gdf.dissolve('name')\n",
    "basins_gdf"
   ]
  },
  {
   "cell_type": "code",
   "execution_count": 17,
   "id": "d25c6df3-d7da-4bbf-a2dc-edbd06d5d0be",
   "metadata": {},
   "outputs": [
    {
     "data": {
      "text/plain": [
       "Index(['geometry', 'endo', 'x', 'y', 'upstream_area'], dtype='object')"
      ]
     },
     "execution_count": 17,
     "metadata": {},
     "output_type": "execute_result"
    }
   ],
   "source": [
    "basins_gdf.columns"
   ]
  },
  {
   "cell_type": "code",
   "execution_count": 20,
   "id": "02119f49-c581-4449-8628-1f27705ab710",
   "metadata": {},
   "outputs": [
    {
     "data": {
      "text/plain": [
       "<AxesSubplot: >"
      ]
     },
     "execution_count": 20,
     "metadata": {},
     "output_type": "execute_result"
    },
    {
     "data": {
      "image/png": "[encoded data removed]",
      "text/plain": [
       "<Figure size 640x480 with 1 Axes>"
      ]
     },
     "metadata": {},
     "output_type": "display_data"
    }
   ],
   "source": [
    "basins_gdf.plot()"
   ]
  },
  {
   "cell_type": "code",
   "execution_count": 25,
   "id": "79f474f3-b24c-44df-99ca-ed17a51abc27",
   "metadata": {},
   "outputs": [
    {
     "data": {
      "text/html": [
       "<div>\n",
       "<style scoped>\n",
       "    .dataframe tbody tr th:only-of-type {\n",
       "        vertical-align: middle;\n",
       "    }\n",
       "\n",
       "    .dataframe tbody tr th {\n",
       "        vertical-align: top;\n",
       "    }\n",
       "\n",
       "    .dataframe thead th {\n",
       "        text-align: right;\n",
       "    }\n",
       "</style>\n",
       "<table border=\"1\" class=\"dataframe\">\n",
       "  <thead>\n",
       "    <tr style=\"text-align: right;\">\n",
       "      <th></th>\n",
       "      <th>minx</th>\n",
       "      <th>miny</th>\n",
       "      <th>maxx</th>\n",
       "      <th>maxy</th>\n",
       "    </tr>\n",
       "    <tr>\n",
       "      <th>name</th>\n",
       "      <th></th>\n",
       "      <th></th>\n",
       "      <th></th>\n",
       "      <th></th>\n",
       "    </tr>\n",
       "  </thead>\n",
       "  <tbody>\n",
       "    <tr>\n",
       "      <th>AMAZONAS</th>\n",
       "      <td>-51.025</td>\n",
       "      <td>-0.625</td>\n",
       "      <td>-50.875</td>\n",
       "      <td>-0.525</td>\n",
       "    </tr>\n",
       "    <tr>\n",
       "      <th>AMUR</th>\n",
       "      <td>140.725</td>\n",
       "      <td>53.075</td>\n",
       "      <td>140.925</td>\n",
       "      <td>53.125</td>\n",
       "    </tr>\n",
       "    <tr>\n",
       "      <th>ANGERMAN</th>\n",
       "      <td>11.825</td>\n",
       "      <td>57.675</td>\n",
       "      <td>11.925</td>\n",
       "      <td>57.725</td>\n",
       "    </tr>\n",
       "    <tr>\n",
       "      <th>ARCTIC OCEAN SEVERNY ISLAND</th>\n",
       "      <td>55.575</td>\n",
       "      <td>71.525</td>\n",
       "      <td>55.725</td>\n",
       "      <td>71.575</td>\n",
       "    </tr>\n",
       "    <tr>\n",
       "      <th>BACK RIVER</th>\n",
       "      <td>-93.975</td>\n",
       "      <td>64.025</td>\n",
       "      <td>-93.825</td>\n",
       "      <td>64.025</td>\n",
       "    </tr>\n",
       "    <tr>\n",
       "      <th>...</th>\n",
       "      <td>...</td>\n",
       "      <td>...</td>\n",
       "      <td>...</td>\n",
       "      <td>...</td>\n",
       "    </tr>\n",
       "    <tr>\n",
       "      <th>WESTERN ARABIAN DESERT</th>\n",
       "      <td>36.725</td>\n",
       "      <td>25.925</td>\n",
       "      <td>36.825</td>\n",
       "      <td>25.975</td>\n",
       "    </tr>\n",
       "    <tr>\n",
       "      <th>YANGTZE RIVER (CHANG JIANG)</th>\n",
       "      <td>120.475</td>\n",
       "      <td>31.975</td>\n",
       "      <td>120.775</td>\n",
       "      <td>32.025</td>\n",
       "    </tr>\n",
       "    <tr>\n",
       "      <th>YENISEI</th>\n",
       "      <td>83.375</td>\n",
       "      <td>70.575</td>\n",
       "      <td>83.475</td>\n",
       "      <td>70.625</td>\n",
       "    </tr>\n",
       "    <tr>\n",
       "      <th>YUKON RIVER</th>\n",
       "      <td>-164.625</td>\n",
       "      <td>63.025</td>\n",
       "      <td>-164.475</td>\n",
       "      <td>63.025</td>\n",
       "    </tr>\n",
       "    <tr>\n",
       "      <th>ZAMBEZI</th>\n",
       "      <td>36.125</td>\n",
       "      <td>-18.625</td>\n",
       "      <td>36.275</td>\n",
       "      <td>-18.525</td>\n",
       "    </tr>\n",
       "  </tbody>\n",
       "</table>\n",
       "<p>121 rows × 4 columns</p>\n",
       "</div>"
      ],
      "text/plain": [
       "                                minx    miny     maxx    maxy\n",
       "name                                                         \n",
       "AMAZONAS                     -51.025  -0.625  -50.875  -0.525\n",
       "AMUR                         140.725  53.075  140.925  53.125\n",
       "ANGERMAN                      11.825  57.675   11.925  57.725\n",
       "ARCTIC OCEAN SEVERNY ISLAND   55.575  71.525   55.725  71.575\n",
       "BACK RIVER                   -93.975  64.025  -93.825  64.025\n",
       "...                              ...     ...      ...     ...\n",
       "WESTERN ARABIAN DESERT        36.725  25.925   36.825  25.975\n",
       "YANGTZE RIVER (CHANG JIANG)  120.475  31.975  120.775  32.025\n",
       "YENISEI                       83.375  70.575   83.475  70.625\n",
       "YUKON RIVER                 -164.625  63.025 -164.475  63.025\n",
       "ZAMBEZI                       36.125 -18.625   36.275 -18.525\n",
       "\n",
       "[121 rows x 4 columns]"
      ]
     },
     "execution_count": 25,
     "metadata": {},
     "output_type": "execute_result"
    }
   ],
   "source": [
    "basins_bounds = basins_gdf.bounds\n",
    "basins_bounds"
   ]
  },
  {
   "cell_type": "code",
   "execution_count": 26,
   "id": "1fa7bf07-5433-42fd-a5e6-f2269047d97b",
   "metadata": {},
   "outputs": [
    {
     "data": {
      "text/html": [
       "<div>\n",
       "<style scoped>\n",
       "    .dataframe tbody tr th:only-of-type {\n",
       "        vertical-align: middle;\n",
       "    }\n",
       "\n",
       "    .dataframe tbody tr th {\n",
       "        vertical-align: top;\n",
       "    }\n",
       "\n",
       "    .dataframe thead th {\n",
       "        text-align: right;\n",
       "    }\n",
       "</style>\n",
       "<table border=\"1\" class=\"dataframe\">\n",
       "  <thead>\n",
       "    <tr style=\"text-align: right;\">\n",
       "      <th></th>\n",
       "      <th>minx</th>\n",
       "      <th>miny</th>\n",
       "      <th>maxx</th>\n",
       "      <th>maxy</th>\n",
       "    </tr>\n",
       "    <tr>\n",
       "      <th>name</th>\n",
       "      <th></th>\n",
       "      <th></th>\n",
       "      <th></th>\n",
       "      <th></th>\n",
       "    </tr>\n",
       "  </thead>\n",
       "  <tbody>\n",
       "    <tr>\n",
       "      <th>AMAZONAS</th>\n",
       "      <td>-51.075</td>\n",
       "      <td>-0.675</td>\n",
       "      <td>-50.825</td>\n",
       "      <td>-0.475</td>\n",
       "    </tr>\n",
       "    <tr>\n",
       "      <th>AMUR</th>\n",
       "      <td>140.675</td>\n",
       "      <td>53.025</td>\n",
       "      <td>140.975</td>\n",
       "      <td>53.175</td>\n",
       "    </tr>\n",
       "    <tr>\n",
       "      <th>ANGERMAN</th>\n",
       "      <td>11.775</td>\n",
       "      <td>57.625</td>\n",
       "      <td>11.975</td>\n",
       "      <td>57.775</td>\n",
       "    </tr>\n",
       "    <tr>\n",
       "      <th>ARCTIC OCEAN SEVERNY ISLAND</th>\n",
       "      <td>55.525</td>\n",
       "      <td>71.475</td>\n",
       "      <td>55.775</td>\n",
       "      <td>71.625</td>\n",
       "    </tr>\n",
       "    <tr>\n",
       "      <th>BACK RIVER</th>\n",
       "      <td>-94.025</td>\n",
       "      <td>63.975</td>\n",
       "      <td>-93.775</td>\n",
       "      <td>64.075</td>\n",
       "    </tr>\n",
       "    <tr>\n",
       "      <th>...</th>\n",
       "      <td>...</td>\n",
       "      <td>...</td>\n",
       "      <td>...</td>\n",
       "      <td>...</td>\n",
       "    </tr>\n",
       "    <tr>\n",
       "      <th>WESTERN ARABIAN DESERT</th>\n",
       "      <td>36.675</td>\n",
       "      <td>25.875</td>\n",
       "      <td>36.875</td>\n",
       "      <td>26.025</td>\n",
       "    </tr>\n",
       "    <tr>\n",
       "      <th>YANGTZE RIVER (CHANG JIANG)</th>\n",
       "      <td>120.425</td>\n",
       "      <td>31.925</td>\n",
       "      <td>120.825</td>\n",
       "      <td>32.075</td>\n",
       "    </tr>\n",
       "    <tr>\n",
       "      <th>YENISEI</th>\n",
       "      <td>83.325</td>\n",
       "      <td>70.525</td>\n",
       "      <td>83.525</td>\n",
       "      <td>70.675</td>\n",
       "    </tr>\n",
       "    <tr>\n",
       "      <th>YUKON RIVER</th>\n",
       "      <td>-164.675</td>\n",
       "      <td>62.975</td>\n",
       "      <td>-164.425</td>\n",
       "      <td>63.075</td>\n",
       "    </tr>\n",
       "    <tr>\n",
       "      <th>ZAMBEZI</th>\n",
       "      <td>36.075</td>\n",
       "      <td>-18.675</td>\n",
       "      <td>36.325</td>\n",
       "      <td>-18.475</td>\n",
       "    </tr>\n",
       "  </tbody>\n",
       "</table>\n",
       "<p>121 rows × 4 columns</p>\n",
       "</div>"
      ],
      "text/plain": [
       "                                minx    miny     maxx    maxy\n",
       "name                                                         \n",
       "AMAZONAS                     -51.075  -0.675  -50.825  -0.475\n",
       "AMUR                         140.675  53.025  140.975  53.175\n",
       "ANGERMAN                      11.775  57.625   11.975  57.775\n",
       "ARCTIC OCEAN SEVERNY ISLAND   55.525  71.475   55.775  71.625\n",
       "BACK RIVER                   -94.025  63.975  -93.775  64.075\n",
       "...                              ...     ...      ...     ...\n",
       "WESTERN ARABIAN DESERT        36.675  25.875   36.875  26.025\n",
       "YANGTZE RIVER (CHANG JIANG)  120.425  31.925  120.825  32.075\n",
       "YENISEI                       83.325  70.525   83.525  70.675\n",
       "YUKON RIVER                 -164.675  62.975 -164.425  63.075\n",
       "ZAMBEZI                       36.075 -18.675   36.325 -18.475\n",
       "\n",
       "[121 rows x 4 columns]"
      ]
     },
     "execution_count": 26,
     "metadata": {},
     "output_type": "execute_result"
    }
   ],
   "source": [
    "basins_bounds.minx = basins_bounds.minx - 0.05\n",
    "basins_bounds.miny = basins_bounds.miny - 0.05\n",
    "basins_bounds.maxx = basins_bounds.maxx + 0.05\n",
    "basins_bounds.maxy = basins_bounds.maxy + 0.05\n",
    "basins_bounds"
   ]
  },
  {
   "cell_type": "code",
   "execution_count": null,
   "id": "03cec56e-4dec-4532-9ce5-a0cbda192d7c",
   "metadata": {},
   "outputs": [
    {
     "name": "stderr",
     "output_type": "stream",
     "text": [
      "2025-04-17 13:35:39,078 INFO [2024-09-26T00:00:00] Watch our [Forum]( https://forum.ecmwf.int/) for Announcements, news and other discussed topics.\n",
      "2025-04-17 13:35:39,416 INFO [2024-02-01T00:00:00] Please note that accessing this dataset via CDS for time-critical operation is not advised or supported\n",
      "2025-04-17 13:35:39,418 INFO [2024-02-01T00:00:00] Please note we suggest checking the list of known issues on the GloFAS wiki\n",
      "[here](https://confluence.ecmwf.int/display/CEMS/GloFAS+-+Known+Issues)\n",
      "before downloading the dataset.\n",
      "2025-04-17 13:35:39,421 INFO Request ID is 69e06651-4da1-4b85-b331-93d46d4eec51\n",
      "2025-04-17 13:35:39,494 INFO status has been updated to accepted\n",
      "2025-04-17 13:36:29,612 INFO status has been updated to running\n",
      "2025-04-17 13:41:59,100 INFO status has been updated to successful\n"
     ]
    },
    {
     "data": {
      "application/vnd.jupyter.widget-view+json": {
       "model_id": "",
       "version_major": 2,
       "version_minor": 0
      },
      "text/plain": [
       "18d0e73c096366a5dc171d997ac332fe.grib:   0%|          | 0.00/119k [00:00<?, ?B/s]"
      ]
     },
     "metadata": {},
     "output_type": "display_data"
    },
    {
     "name": "stderr",
     "output_type": "stream",
     "text": [
      "2025-04-17 13:42:00,059 INFO [2024-02-01T00:00:00] Please note that accessing this dataset via CDS for time-critical operation is not advised or supported\n",
      "2025-04-17 13:42:00,062 INFO [2024-02-01T00:00:00] Please note we suggest checking the list of known issues on the GloFAS wiki\n",
      "[here](https://confluence.ecmwf.int/display/CEMS/GloFAS+-+Known+Issues)\n",
      "before downloading the dataset.\n",
      "2025-04-17 13:42:00,064 INFO Request ID is e07bbe6b-c1a2-4bb8-98f3-e6301f2815e6\n",
      "2025-04-17 13:42:00,145 INFO status has been updated to accepted\n",
      "2025-04-17 13:46:19,135 INFO status has been updated to running\n",
      "2025-04-17 13:50:19,852 INFO status has been updated to successful\n"
     ]
    },
    {
     "data": {
      "application/vnd.jupyter.widget-view+json": {
       "model_id": "",
       "version_major": 2,
       "version_minor": 0
      },
      "text/plain": [
       "51c17c835746f3ea2302052643101efe.grib:   0%|          | 0.00/119k [00:00<?, ?B/s]"
      ]
     },
     "metadata": {},
     "output_type": "display_data"
    },
    {
     "name": "stderr",
     "output_type": "stream",
     "text": [
      "2025-04-17 13:50:21,017 INFO [2024-02-01T00:00:00] Please note that accessing this dataset via CDS for time-critical operation is not advised or supported\n",
      "2025-04-17 13:50:21,020 INFO [2024-02-01T00:00:00] Please note we suggest checking the list of known issues on the GloFAS wiki\n",
      "[here](https://confluence.ecmwf.int/display/CEMS/GloFAS+-+Known+Issues)\n",
      "before downloading the dataset.\n",
      "2025-04-17 13:50:21,022 INFO Request ID is e928be04-ceaa-4e18-99aa-37753ba75ff9\n",
      "2025-04-17 13:50:21,417 INFO status has been updated to accepted\n",
      "2025-04-17 13:54:45,721 INFO status has been updated to running\n",
      "2025-04-17 13:58:46,658 INFO status has been updated to successful\n"
     ]
    },
    {
     "data": {
      "application/vnd.jupyter.widget-view+json": {
       "model_id": "",
       "version_major": 2,
       "version_minor": 0
      },
      "text/plain": [
       "fe4559e4c27009db99474308a241dc83.grib:   0%|          | 0.00/119k [00:00<?, ?B/s]"
      ]
     },
     "metadata": {},
     "output_type": "display_data"
    },
    {
     "name": "stderr",
     "output_type": "stream",
     "text": [
      "2025-04-17 13:58:48,225 INFO [2024-02-01T00:00:00] Please note that accessing this dataset via CDS for time-critical operation is not advised or supported\n",
      "2025-04-17 13:58:48,227 INFO [2024-02-01T00:00:00] Please note we suggest checking the list of known issues on the GloFAS wiki\n",
      "[here](https://confluence.ecmwf.int/display/CEMS/GloFAS+-+Known+Issues)\n",
      "before downloading the dataset.\n",
      "2025-04-17 13:58:48,229 INFO Request ID is 15ef0142-14c9-48cc-9d83-f6b91b58fe6b\n",
      "2025-04-17 13:58:48,338 INFO status has been updated to accepted\n",
      "2025-04-17 13:59:02,174 INFO status has been updated to running\n",
      "2025-04-17 14:03:07,717 INFO status has been updated to successful\n"
     ]
    },
    {
     "data": {
      "application/vnd.jupyter.widget-view+json": {
       "model_id": "",
       "version_major": 2,
       "version_minor": 0
      },
      "text/plain": [
       "7ba6c309a77c5ebe1382a23668a8bd05.grib:   0%|          | 0.00/119k [00:00<?, ?B/s]"
      ]
     },
     "metadata": {},
     "output_type": "display_data"
    },
    {
     "name": "stderr",
     "output_type": "stream",
     "text": [
      "2025-04-17 14:03:08,992 INFO [2024-02-01T00:00:00] Please note that accessing this dataset via CDS for time-critical operation is not advised or supported\n",
      "2025-04-17 14:03:08,994 INFO [2024-02-01T00:00:00] Please note we suggest checking the list of known issues on the GloFAS wiki\n",
      "[here](https://confluence.ecmwf.int/display/CEMS/GloFAS+-+Known+Issues)\n",
      "before downloading the dataset.\n",
      "2025-04-17 14:03:08,997 INFO Request ID is 82e2a9d3-90ac-4b37-96da-6c2dd117c260\n",
      "2025-04-17 14:03:09,114 INFO status has been updated to accepted\n",
      "2025-04-17 14:03:22,994 INFO status has been updated to running\n",
      "2025-04-17 14:07:28,348 INFO status has been updated to successful\n"
     ]
    },
    {
     "data": {
      "application/vnd.jupyter.widget-view+json": {
       "model_id": "",
       "version_major": 2,
       "version_minor": 0
      },
      "text/plain": [
       "14a0195eeb5ba3685fc9ffdd3af7e6f.grib:   0%|          | 0.00/119k [00:00<?, ?B/s]"
      ]
     },
     "metadata": {},
     "output_type": "display_data"
    },
    {
     "name": "stderr",
     "output_type": "stream",
     "text": [
      "2025-04-17 14:07:29,528 INFO [2024-02-01T00:00:00] Please note that accessing this dataset via CDS for time-critical operation is not advised or supported\n",
      "2025-04-17 14:07:29,531 INFO [2024-02-01T00:00:00] Please note we suggest checking the list of known issues on the GloFAS wiki\n",
      "[here](https://confluence.ecmwf.int/display/CEMS/GloFAS+-+Known+Issues)\n",
      "before downloading the dataset.\n",
      "2025-04-17 14:07:29,533 INFO Request ID is 60fd012f-3349-4df0-8ed3-71c9915978e1\n",
      "2025-04-17 14:07:29,603 INFO status has been updated to accepted\n",
      "2025-04-17 14:08:19,618 INFO status has been updated to running\n",
      "2025-04-17 14:13:48,813 INFO status has been updated to successful\n"
     ]
    },
    {
     "data": {
      "application/vnd.jupyter.widget-view+json": {
       "model_id": "",
       "version_major": 2,
       "version_minor": 0
      },
      "text/plain": [
       "5e2735f46be8fd04e219150215eb6e5b.grib:   0%|          | 0.00/119k [00:00<?, ?B/s]"
      ]
     },
     "metadata": {},
     "output_type": "display_data"
    },
    {
     "name": "stderr",
     "output_type": "stream",
     "text": [
      "2025-04-17 14:13:50,075 INFO [2024-02-01T00:00:00] Please note that accessing this dataset via CDS for time-critical operation is not advised or supported\n",
      "2025-04-17 14:13:50,077 INFO [2024-02-01T00:00:00] Please note we suggest checking the list of known issues on the GloFAS wiki\n",
      "[here](https://confluence.ecmwf.int/display/CEMS/GloFAS+-+Known+Issues)\n",
      "before downloading the dataset.\n",
      "2025-04-17 14:13:50,080 INFO Request ID is d6501a8e-5770-4576-b113-0463318795a7\n",
      "2025-04-17 14:13:50,138 INFO status has been updated to accepted\n",
      "2025-04-17 14:14:11,576 INFO status has been updated to running\n",
      "2025-04-17 14:18:09,379 INFO status has been updated to successful\n"
     ]
    },
    {
     "data": {
      "application/vnd.jupyter.widget-view+json": {
       "model_id": "",
       "version_major": 2,
       "version_minor": 0
      },
      "text/plain": [
       "906a67136e7134a54c845ddc736767be.grib:   0%|          | 0.00/119k [00:00<?, ?B/s]"
      ]
     },
     "metadata": {},
     "output_type": "display_data"
    },
    {
     "name": "stderr",
     "output_type": "stream",
     "text": [
      "2025-04-17 14:18:10,442 INFO [2024-02-01T00:00:00] Please note that accessing this dataset via CDS for time-critical operation is not advised or supported\n",
      "2025-04-17 14:18:10,444 INFO [2024-02-01T00:00:00] Please note we suggest checking the list of known issues on the GloFAS wiki\n",
      "[here](https://confluence.ecmwf.int/display/CEMS/GloFAS+-+Known+Issues)\n",
      "before downloading the dataset.\n",
      "2025-04-17 14:18:10,446 INFO Request ID is 363d0fed-378b-411e-9bbe-5d6c8551460f\n",
      "2025-04-17 14:18:10,566 INFO status has been updated to accepted\n",
      "2025-04-17 14:18:43,560 INFO status has been updated to running\n",
      "2025-04-17 14:24:29,899 INFO status has been updated to successful\n"
     ]
    },
    {
     "data": {
      "application/vnd.jupyter.widget-view+json": {
       "model_id": "",
       "version_major": 2,
       "version_minor": 0
      },
      "text/plain": [
       "bf1e143a7d0aa42f1c2a16ba48335314.grib:   0%|          | 0.00/119k [00:00<?, ?B/s]"
      ]
     },
     "metadata": {},
     "output_type": "display_data"
    },
    {
     "name": "stderr",
     "output_type": "stream",
     "text": [
      "2025-04-17 14:24:31,107 INFO [2024-02-01T00:00:00] Please note that accessing this dataset via CDS for time-critical operation is not advised or supported\n",
      "2025-04-17 14:24:31,110 INFO [2024-02-01T00:00:00] Please note we suggest checking the list of known issues on the GloFAS wiki\n",
      "[here](https://confluence.ecmwf.int/display/CEMS/GloFAS+-+Known+Issues)\n",
      "before downloading the dataset.\n",
      "2025-04-17 14:24:31,112 INFO Request ID is 60f85aad-c124-492c-9ee3-4e8eadb1e2c0\n",
      "2025-04-17 14:24:31,200 INFO status has been updated to accepted\n",
      "2025-04-17 14:24:52,699 INFO status has been updated to running\n"
     ]
    }
   ],
   "source": [
    "for i in range(len(basins_bounds)):\n",
    "    basin = basins_bounds.iloc[i]\n",
    "    name = basins_bounds.index[i]\n",
    "    roi = [basin.maxy, basin.minx, basin.miny, basin.maxx]\n",
    "    \n",
    "    out_name = './basin_outlet_discharge/' + name + '_'# + '.grib2'\n",
    "    get_glofas_for_point(roi, out_name)\n",
    "    \n",
    "    print(name + 'completed!')\n",
    "    print(roi)"
   ]
  },
  {
   "cell_type": "code",
   "execution_count": null,
   "id": "4aeeea0a-3c67-43ce-afcb-a3d18e3ec534",
   "metadata": {},
   "outputs": [],
   "source": []
  }
 ],
 "metadata": {
  "kernelspec": {
   "display_name": "egu2024-intel72",
   "language": "python",
   "name": "egu2024-intel72"
  },
  "language_info": {
   "codemirror_mode": {
    "name": "ipython",
    "version": 3
   },
   "file_extension": ".py",
   "mimetype": "text/x-python",
   "name": "python",
   "nbconvert_exporter": "python",
   "pygments_lexer": "ipython3",
   "version": "3.8.10"
  }
 },
 "nbformat": 4,
 "nbformat_minor": 5
}
