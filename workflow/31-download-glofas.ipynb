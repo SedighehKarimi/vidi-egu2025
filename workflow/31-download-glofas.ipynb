{
 "cells": [
  {
   "cell_type": "markdown",
   "id": "4cd3ba49-c3a5-40c1-86ee-f962d99a7bad",
   "metadata": {
    "tags": [],
    "user_expressions": []
   },
   "source": [
    "![Vidi_Waterflux_Banner](https://raw.githubusercontent.com/ITC-Water-Resources/Vidi-waterflux-merch/refs/heads/main/jupyter/Vidi_Waterflux_Banner.png)\n",
    "*Roelof Rietbroek, Sedigheh Karimi, Amin Shakya EGU 2025*\n",
    "\n",
    "# Download GLOFAS data from CDSAPI"
   ]
  },
  {
   "cell_type": "markdown",
   "id": "bec59a99-ff68-4e05-a786-048d68f8d9c9",
   "metadata": {},
   "source": [
    "## 01. Download for the North Sea Region"
   ]
  },
  {
   "cell_type": "code",
   "execution_count": null,
   "id": "d0de05be-0512-44af-aef5-0bee360cb07b",
   "metadata": {},
   "outputs": [],
   "source": [
    "import cdsapi\n",
    "\n",
    "c = cdsapi.Client()\n",
    "\n",
    "\n",
    "north_sea_region = [-5.0, 45.5, 15.5, 63.5,]\n",
    "start_year = 1979 #1990\n",
    "end_year = 2025 + 1 #2023\n",
    "for i in range(start_year,end_year):\n",
    "    download_name = './glofas4_data_nsr/glofas4_nsr_' + str(i) + '.grib2'\n",
    "    c.retrieve(\n",
    "        'cems-glofas-historical',\n",
    "        {\n",
    "            'system_version': 'version_4_0',\n",
    "            'hydrological_model': 'lisflood',\n",
    "            'product_type': 'consolidated',\n",
    "            'variable': 'river_discharge_in_the_last_24_hours',\n",
    "            'hyear': str(i),\n",
    "            \"hmonth\": [\n",
    "                        \"01\",\n",
    "                        \"02\",\n",
    "                        \"03\",\n",
    "                        \"04\",\n",
    "                        \"05\",\n",
    "                        \"06\",\n",
    "                        \"07\",\n",
    "                        \"08\",\n",
    "                        \"09\",\n",
    "                        \"10\",\n",
    "                        \"11\",\n",
    "                        \"12\"\n",
    "                    ],\n",
    "            'hday': [\n",
    "            '01', '02', '03',\n",
    "            '04', '05', '06',\n",
    "            '07', '08', '09',\n",
    "            '10', '11', '12',\n",
    "            '13', '14', '15',\n",
    "            '16', '17', '18',\n",
    "            '19', '20', '21',\n",
    "            '22', '23', '24',\n",
    "            '25', '26', '27',\n",
    "            '28', '29', '30',\n",
    "            '31',\n",
    "            ],\n",
    "            'format': 'grib2', \n",
    "            'area': north_sea_region, \n",
    "        },\n",
    "        download_name) #Rename appropriately"
   ]
  },
  {
   "cell_type": "markdown",
   "id": "7f85565b-4cc8-4dc4-b354-8baba6190dce",
   "metadata": {},
   "source": [
    "## 02. Download for the Horn of Africa Region"
   ]
  },
  {
   "cell_type": "code",
   "execution_count": null,
   "id": "56d412c2-eae6-4f26-b59c-472a2751fc97",
   "metadata": {},
   "outputs": [],
   "source": [
    "import cdsapi\n",
    "\n",
    "c = cdsapi.Client()\n",
    "\n",
    "\n",
    "# north_sea_region = [-5.0, 45.5, 15.5, 63.5,]\n",
    "hoa = [7.0, -20.5, 60.5, 31.5,]\n",
    "start_year = 1979 #1990\n",
    "end_year = 2025 + 1 #2023\n",
    "for i in range(start_year,end_year):\n",
    "    download_name = './glofas4_data_hoa/glofas4_hoa_' + str(i) + '.grib2'\n",
    "    c.retrieve(\n",
    "        'cems-glofas-historical',\n",
    "        {\n",
    "            'system_version': 'version_4_0',\n",
    "            'hydrological_model': 'lisflood',\n",
    "            'product_type': 'consolidated',\n",
    "            'variable': 'river_discharge_in_the_last_24_hours',\n",
    "            'hyear': str(i),\n",
    "            \"hmonth\": [\n",
    "                        \"01\",\n",
    "                        \"02\",\n",
    "                        \"03\",\n",
    "                        \"04\",\n",
    "                        \"05\",\n",
    "                        \"06\",\n",
    "                        \"07\",\n",
    "                        \"08\",\n",
    "                        \"09\",\n",
    "                        \"10\",\n",
    "                        \"11\",\n",
    "                        \"12\"\n",
    "                    ],\n",
    "            'hday': [\n",
    "            '01', '02', '03',\n",
    "            '04', '05', '06',\n",
    "            '07', '08', '09',\n",
    "            '10', '11', '12',\n",
    "            '13', '14', '15',\n",
    "            '16', '17', '18',\n",
    "            '19', '20', '21',\n",
    "            '22', '23', '24',\n",
    "            '25', '26', '27',\n",
    "            '28', '29', '30',\n",
    "            '31',\n",
    "            ],\n",
    "            'format': 'grib2', \n",
    "            'area': hoa, \n",
    "        },\n",
    "        download_name) #Rename appropriately"
   ]
  }
 ],
 "metadata": {
  "kernelspec": {
   "display_name": "egu2024-intel72",
   "language": "python",
   "name": "egu2024-intel72"
  },
  "language_info": {
   "codemirror_mode": {
    "name": "ipython",
    "version": 3
   },
   "file_extension": ".py",
   "mimetype": "text/x-python",
   "name": "python",
   "nbconvert_exporter": "python",
   "pygments_lexer": "ipython3",
   "version": "3.8.10"
  }
 },
 "nbformat": 4,
 "nbformat_minor": 5
}
